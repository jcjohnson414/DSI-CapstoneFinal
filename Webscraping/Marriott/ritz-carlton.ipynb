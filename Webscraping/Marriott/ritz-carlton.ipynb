{
 "cells": [
  {
   "cell_type": "code",
   "execution_count": 1,
   "metadata": {},
   "outputs": [],
   "source": [
    "import numpy as np\n",
    "import pandas as pd\n",
    "from bs4 import BeautifulSoup\n",
    "import requests\n",
    "import json\n",
    "from selenium.webdriver import Chrome\n",
    "from selenium import webdriver\n",
    "from selenium.webdriver.common.by import By\n",
    "from selenium.webdriver.support.ui import WebDriverWait\n",
    "from selenium.webdriver.support import expected_conditions as EC\n",
    "from selenium.common.exceptions import TimeoutException\n",
    "import time\n",
    "from datetime import datetime"
   ]
  },
  {
   "cell_type": "code",
   "execution_count": 2,
   "metadata": {},
   "outputs": [],
   "source": [
    "driver = Chrome(executable_path='/Users/chrisjohnson/Downloads/chromedriver')\n",
    "url = \"https://www.ritzcarlton.com/en/hotels\"\n",
    "driver.get(url)\n",
    "time.sleep(5)\n",
    "# viewhotels_button = driver.find_elements_by_xpath('/html/body/section/pacsys-animation[3]/pacsys-directory/div[3]/button')[0]\n",
    "# viewhotels_button.click()\n",
    "# northamhotels_button = driver.find_elements_by_xpath('/html/body/section/pacsys-animation[3]/pacsys-directory/div[2]/pacsys-directory-listings/div/div[5]/a')[0]\n",
    "# northamhotels_button.click()"
   ]
  },
  {
   "cell_type": "code",
   "execution_count": 3,
   "metadata": {},
   "outputs": [],
   "source": [
    "page_source = driver.page_source\n",
    "soup = BeautifulSoup(page_source, 'lxml')"
   ]
  },
  {
   "cell_type": "code",
   "execution_count": 31,
   "metadata": {},
   "outputs": [
    {
     "ename": "AttributeError",
     "evalue": "ResultSet object has no attribute 'find'. You're probably treating a list of elements like a single element. Did you call find_all() when you meant to call find()?",
     "output_type": "error",
     "traceback": [
      "\u001b[0;31m---------------------------------------------------------------------------\u001b[0m",
      "\u001b[0;31mAttributeError\u001b[0m                            Traceback (most recent call last)",
      "\u001b[0;32m<ipython-input-31-a5b5c8425a6d>\u001b[0m in \u001b[0;36m<module>\u001b[0;34m\u001b[0m\n\u001b[1;32m      1\u001b[0m \u001b[0mstuff\u001b[0m \u001b[0;34m=\u001b[0m \u001b[0msoup\u001b[0m\u001b[0;34m.\u001b[0m\u001b[0mfind_all\u001b[0m\u001b[0;34m(\u001b[0m\u001b[0;34m'div'\u001b[0m\u001b[0;34m,\u001b[0m \u001b[0;34m{\u001b[0m\u001b[0;34m'class'\u001b[0m \u001b[0;34m:\u001b[0m \u001b[0;34m'sub-region'\u001b[0m\u001b[0;34m}\u001b[0m\u001b[0;34m)\u001b[0m\u001b[0;34m\u001b[0m\u001b[0;34m\u001b[0m\u001b[0m\n\u001b[0;32m----> 2\u001b[0;31m \u001b[0mextra\u001b[0m \u001b[0;34m=\u001b[0m \u001b[0mstuff\u001b[0m\u001b[0;34m.\u001b[0m\u001b[0mfind\u001b[0m\u001b[0;34m(\u001b[0m\u001b[0;34m'p'\u001b[0m\u001b[0;34m)\u001b[0m\u001b[0;34m\u001b[0m\u001b[0;34m\u001b[0m\u001b[0m\n\u001b[0m\u001b[1;32m      3\u001b[0m \u001b[0mextra\u001b[0m\u001b[0;34m\u001b[0m\u001b[0;34m\u001b[0m\u001b[0m\n\u001b[1;32m      4\u001b[0m \u001b[0;31m# hotel_list = []\u001b[0m\u001b[0;34m\u001b[0m\u001b[0;34m\u001b[0m\u001b[0;34m\u001b[0m\u001b[0m\n\u001b[1;32m      5\u001b[0m \u001b[0;31m# for x in stuff:\u001b[0m\u001b[0;34m\u001b[0m\u001b[0;34m\u001b[0m\u001b[0;34m\u001b[0m\u001b[0m\n",
      "\u001b[0;32m~/anaconda3/lib/python3.7/site-packages/bs4/element.py\u001b[0m in \u001b[0;36m__getattr__\u001b[0;34m(self, key)\u001b[0m\n\u001b[1;32m   2079\u001b[0m         \u001b[0;34m\"\"\"Raise a helpful exception to explain a common code fix.\"\"\"\u001b[0m\u001b[0;34m\u001b[0m\u001b[0;34m\u001b[0m\u001b[0m\n\u001b[1;32m   2080\u001b[0m         raise AttributeError(\n\u001b[0;32m-> 2081\u001b[0;31m             \u001b[0;34m\"ResultSet object has no attribute '%s'. You're probably treating a list of elements like a single element. Did you call find_all() when you meant to call find()?\"\u001b[0m \u001b[0;34m%\u001b[0m \u001b[0mkey\u001b[0m\u001b[0;34m\u001b[0m\u001b[0;34m\u001b[0m\u001b[0m\n\u001b[0m\u001b[1;32m   2082\u001b[0m         )\n",
      "\u001b[0;31mAttributeError\u001b[0m: ResultSet object has no attribute 'find'. You're probably treating a list of elements like a single element. Did you call find_all() when you meant to call find()?"
     ]
    }
   ],
   "source": [
    "stuff = soup.find_all('div', {'class' : 'sub-region'})\n",
    "\n",
    "# hotel_list = []\n",
    "# for x in stuff:\n",
    "#     hotel = {}\n",
    "#     hotel['name'] = x.text.strip()\n",
    "#     hotel['url'] = x.attrs['href']\n",
    "#     hotel_list.append(hotel)\n",
    "# achotels_df = pd.DataFrame(hotel_list)\n",
    "# achotels_df"
   ]
  },
  {
   "cell_type": "code",
   "execution_count": null,
   "metadata": {},
   "outputs": [],
   "source": [
    "%%time\n",
    "\n",
    "hotel_list = []\n",
    "counter = 0\n",
    "for index, row in achotels_df.iterrows():\n",
    "    name = row['name']\n",
    "    url = row['url']\n",
    "    try:\n",
    "        res = requests.get(url)\n",
    "        soup = BeautifulSoup(res.content, 'lxml')\n",
    "        stuff = soup.find('div', {'class' : 'l-container l-header-container'})\n",
    "#             hotel_list = []\n",
    "        hotel = {}\n",
    "        try:\n",
    "            hotel['name'] = name\n",
    "        except:\n",
    "            hotel['name'] = name\n",
    "        try:\n",
    "            hotel['url'] = url\n",
    "        except:\n",
    "            hotel['url'] = url\n",
    "        try:\n",
    "            hotel['street'] = stuff.find_all('span')[2].text\n",
    "        except:\n",
    "            hotel['street'] = 'N/A'\n",
    "        try:\n",
    "            hotel['locality'] = stuff.find_all('span')[4].text\n",
    "        except:\n",
    "            hotel['locality'] = 'N/A'        \n",
    "        try:\n",
    "            hotel['state'] = stuff.find_all('span')[6].text\n",
    "        except:\n",
    "            hotel['state'] = 'N/A'            \n",
    "        try:\n",
    "            hotel['postalcode'] = stuff.find_all('span')[7].text\n",
    "        except:\n",
    "            hotel['postalcode'] = 'N/A'            \n",
    "        try:\n",
    "            hotel['latitude'] = stuff.find_all('span')[26].text\n",
    "        except:\n",
    "            hotel['latitude'] = 'N/A'            \n",
    "        try:\n",
    "            hotel['longitude'] = stuff.find_all('span')[27].text\n",
    "        except:\n",
    "            hotel['longitude'] = 'N/A'            \n",
    "        desc = soup.find_all('p', {'class' : 'l-margin-top-none l-overflow-hidden t-collapsed-height'})\n",
    "        try:\n",
    "            hotel['description'] = str(desc).replace('<p class=\"l-margin-top-none l-overflow-hidden t-collapsed-height\">','').replace('</p>', '')\n",
    "        except:\n",
    "            hotel['description'] = 'N/A'\n",
    "        hotel_list.append(hotel)\n",
    "        print(hotel)\n",
    "        print()\n",
    "        print(datetime.now())\n",
    "        print('='*80)\n",
    "        print('='*80)\n",
    "        print()\n",
    "#         driver.close()\n",
    "#         driver.switch_to.window(original_window)\n",
    "#         time.sleep(1)\n",
    "\n",
    "        counter += 1\n",
    "        print(f'Collected {counter} hotels.')\n",
    "    except:\n",
    "        hotel = {}\n",
    "        hotel['name'] = name\n",
    "        hotel['url'] = url\n",
    "        hotel_list.append(hotel)\n",
    "        print(f\"Number {x} didn't work at {datetime.now()}\")\n",
    "        continue\n",
    "hotel_df = pd.DataFrame(hotel_list)\n",
    "hotel_df      "
   ]
  },
  {
   "cell_type": "code",
   "execution_count": null,
   "metadata": {},
   "outputs": [],
   "source": [
    "hotel_df = hotel_df.drop_duplicates(subset='name')"
   ]
  },
  {
   "cell_type": "code",
   "execution_count": null,
   "metadata": {},
   "outputs": [],
   "source": [
    "hotel_df"
   ]
  },
  {
   "cell_type": "code",
   "execution_count": null,
   "metadata": {},
   "outputs": [],
   "source": [
    "hotel_df.to_csv('tribute_description.csv')"
   ]
  },
  {
   "cell_type": "code",
   "execution_count": null,
   "metadata": {},
   "outputs": [],
   "source": []
  }
 ],
 "metadata": {
  "kernelspec": {
   "display_name": "Python 3",
   "language": "python",
   "name": "python3"
  },
  "language_info": {
   "codemirror_mode": {
    "name": "ipython",
    "version": 3
   },
   "file_extension": ".py",
   "mimetype": "text/x-python",
   "name": "python",
   "nbconvert_exporter": "python",
   "pygments_lexer": "ipython3",
   "version": "3.7.6"
  }
 },
 "nbformat": 4,
 "nbformat_minor": 4
}
