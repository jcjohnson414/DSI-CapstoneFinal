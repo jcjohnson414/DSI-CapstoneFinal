{
 "cells": [
  {
   "cell_type": "code",
   "execution_count": 1,
   "metadata": {},
   "outputs": [],
   "source": [
    "import numpy as np\n",
    "import pandas as pd\n",
    "from bs4 import BeautifulSoup\n",
    "import requests\n",
    "import json\n",
    "from selenium.webdriver import Chrome\n",
    "from selenium import webdriver\n",
    "from selenium.webdriver.common.by import By\n",
    "from selenium.webdriver.support.ui import WebDriverWait\n",
    "from selenium.webdriver.support import expected_conditions as EC\n",
    "from selenium.common.exceptions import TimeoutException\n",
    "import time\n",
    "from datetime import datetime\n",
    "\n",
    "pd.set_option('max_columns', None)\n",
    "pd.set_option('max_rows', None)"
   ]
  },
  {
   "cell_type": "code",
   "execution_count": 2,
   "metadata": {},
   "outputs": [],
   "source": [
    "states = pd.read_csv('/Users/chrisjohnson/Desktop/DESKTOP/DSI-Capstone/states.csv')\n",
    "# /Users/chrisjohnson/Desktop/DESKTOP/DSI-Capstone/states.csv"
   ]
  },
  {
   "cell_type": "code",
   "execution_count": 3,
   "metadata": {},
   "outputs": [],
   "source": [
    "a = pd.read_csv('./achotels_description.csv')\n",
    "b = pd.read_csv('./aloft_description.csv')\n",
    "c = pd.read_csv('./courtyard_description.csv')\n",
    "d = pd.read_csv('./deltahotels_description.csv')\n",
    "e = pd.read_csv('./fairfield_description.csv')\n",
    "f = pd.read_csv('./fourpoints_description.csv')\n",
    "g = pd.read_csv('./jwmarriott_description.csv')\n",
    "h = pd.read_csv('./lemeridian_description.csv')\n",
    "i = pd.read_csv('./luxurycollection_description.csv')\n",
    "j = pd.read_csv('./marriott_description.csv')\n",
    "k = pd.read_csv('./moxy_description.csv')\n",
    "l = pd.read_csv('./renaissance_description.csv')\n",
    "m = pd.read_csv('./residenceinn_description.csv')\n",
    "n = pd.read_csv('./sheraton_description.csv')\n",
    "o = pd.read_csv('./springhill_description.csv')\n",
    "p = pd.read_csv('./stregis_description.csv')\n",
    "q = pd.read_csv('./townplace_description.csv')\n",
    "r = pd.read_csv('./tribute_description.csv')\n",
    "s = pd.read_csv('./westin_description.csv')\n",
    "t = pd.read_csv('./whotel_description.csv')\n",
    "\n"
   ]
  },
  {
   "cell_type": "code",
   "execution_count": 4,
   "metadata": {},
   "outputs": [],
   "source": [
    "hotel_df = pd.concat([a,b,c,d,e,f,g,h,i,j,k,l,m,n,o,p,q,r,s,t], ignore_index=True)"
   ]
  },
  {
   "cell_type": "code",
   "execution_count": 5,
   "metadata": {},
   "outputs": [],
   "source": [
    "hotel_df = hotel_df[~hotel_df['state'].isnull()]"
   ]
  },
  {
   "cell_type": "code",
   "execution_count": 6,
   "metadata": {},
   "outputs": [],
   "source": [
    "states = pd.read_csv('./states.csv')\n",
    "stateslist = []\n",
    "for x in states['state']:\n",
    "    x = x.upper()\n",
    "    stateslist.append(x)"
   ]
  },
  {
   "cell_type": "code",
   "execution_count": 7,
   "metadata": {},
   "outputs": [],
   "source": [
    "hotel_df['state'] = hotel_df['state'].str.upper()"
   ]
  },
  {
   "cell_type": "code",
   "execution_count": 8,
   "metadata": {},
   "outputs": [
    {
     "data": {
      "text/plain": [
       "(5377, 16)"
      ]
     },
     "execution_count": 8,
     "metadata": {},
     "output_type": "execute_result"
    }
   ],
   "source": [
    "hotel_df.shape"
   ]
  },
  {
   "cell_type": "code",
   "execution_count": 9,
   "metadata": {},
   "outputs": [],
   "source": [
    "hotel_df = hotel_df[hotel_df['state'].isin(stateslist)]"
   ]
  },
  {
   "cell_type": "code",
   "execution_count": 10,
   "metadata": {},
   "outputs": [
    {
     "data": {
      "text/plain": [
       "(5191, 16)"
      ]
     },
     "execution_count": 10,
     "metadata": {},
     "output_type": "execute_result"
    }
   ],
   "source": [
    "hotel_df.shape"
   ]
  },
  {
   "cell_type": "code",
   "execution_count": 11,
   "metadata": {},
   "outputs": [],
   "source": [
    "hotel_df = hotel_df.drop(['Unnamed: 0'], axis=1)"
   ]
  },
  {
   "cell_type": "code",
   "execution_count": 12,
   "metadata": {},
   "outputs": [
    {
     "data": {
      "text/html": [
       "<div>\n",
       "<style scoped>\n",
       "    .dataframe tbody tr th:only-of-type {\n",
       "        vertical-align: middle;\n",
       "    }\n",
       "\n",
       "    .dataframe tbody tr th {\n",
       "        vertical-align: top;\n",
       "    }\n",
       "\n",
       "    .dataframe thead th {\n",
       "        text-align: right;\n",
       "    }\n",
       "</style>\n",
       "<table border=\"1\" class=\"dataframe\">\n",
       "  <thead>\n",
       "    <tr style=\"text-align: right;\">\n",
       "      <th></th>\n",
       "      <th>brand</th>\n",
       "      <th>name</th>\n",
       "      <th>url</th>\n",
       "      <th>street</th>\n",
       "      <th>locality</th>\n",
       "      <th>state</th>\n",
       "      <th>postalcode</th>\n",
       "      <th>coordinate1</th>\n",
       "      <th>coordinate2</th>\n",
       "      <th>coordinate3</th>\n",
       "      <th>coordinate4</th>\n",
       "      <th>description</th>\n",
       "      <th>overall_rating</th>\n",
       "      <th>cleanliness_rating</th>\n",
       "      <th>service_rating</th>\n",
       "    </tr>\n",
       "  </thead>\n",
       "  <tbody>\n",
       "    <tr>\n",
       "      <th>101</th>\n",
       "      <td>AC Hotel</td>\n",
       "      <td>AC Hotel Huntsville Downtown</td>\n",
       "      <td>https://www.marriott.com/HSVAR</td>\n",
       "      <td>435 Williams Avenue SW</td>\n",
       "      <td>Huntsville</td>\n",
       "      <td>ALABAMA</td>\n",
       "      <td>35801</td>\n",
       "      <td>-86.58764</td>\n",
       "      <td>NaN</td>\n",
       "      <td>NaN</td>\n",
       "      <td>NaN</td>\n",
       "      <td>[ Discover something new at the AC Hotel Hunts...</td>\n",
       "      <td>NaN</td>\n",
       "      <td>4.7</td>\n",
       "      <td>4.5</td>\n",
       "    </tr>\n",
       "    <tr>\n",
       "      <th>102</th>\n",
       "      <td>AC Hotel</td>\n",
       "      <td>AC Hotel Phoenix Biltmore</td>\n",
       "      <td>https://www.marriott.com/PHXAB</td>\n",
       "      <td>2811 East Camelback Road</td>\n",
       "      <td>Phoenix</td>\n",
       "      <td>ARIZONA</td>\n",
       "      <td>85016</td>\n",
       "      <td>Reviews</td>\n",
       "      <td>https://www.marriott.com/hotels/maps/travel/ph...</td>\n",
       "      <td>33.509403</td>\n",
       "      <td>-112.020028</td>\n",
       "      <td>[ Experience an elevated way of traveling when...</td>\n",
       "      <td>NaN</td>\n",
       "      <td>4.9</td>\n",
       "      <td>4.8</td>\n",
       "    </tr>\n",
       "    <tr>\n",
       "      <th>103</th>\n",
       "      <td>AC Hotel</td>\n",
       "      <td>AC Hotel Phoenix Downtown</td>\n",
       "      <td>https://www.marriott.com/PHXAD</td>\n",
       "      <td>414 North 5th Street</td>\n",
       "      <td>Phoenix</td>\n",
       "      <td>ARIZONA</td>\n",
       "      <td>85004</td>\n",
       "      <td>NaN</td>\n",
       "      <td>NaN</td>\n",
       "      <td>NaN</td>\n",
       "      <td>NaN</td>\n",
       "      <td>[ AC Hotels by Marriott hotels reflect the sou...</td>\n",
       "      <td>NaN</td>\n",
       "      <td>NaN</td>\n",
       "      <td>NaN</td>\n",
       "    </tr>\n",
       "    <tr>\n",
       "      <th>104</th>\n",
       "      <td>AC Hotel</td>\n",
       "      <td>AC Hotel Scottsdale North</td>\n",
       "      <td>https://www.marriott.com/PHXAX</td>\n",
       "      <td>15200 North Kierland Boulevard</td>\n",
       "      <td>Scottsdale</td>\n",
       "      <td>ARIZONA</td>\n",
       "      <td>85254</td>\n",
       "      <td>NaN</td>\n",
       "      <td>NaN</td>\n",
       "      <td>NaN</td>\n",
       "      <td>NaN</td>\n",
       "      <td>[ AC Hotels reflect the souls of the cities in...</td>\n",
       "      <td>NaN</td>\n",
       "      <td>NaN</td>\n",
       "      <td>NaN</td>\n",
       "    </tr>\n",
       "    <tr>\n",
       "      <th>105</th>\n",
       "      <td>AC Hotel</td>\n",
       "      <td>AC Hotel Phoenix Tempe/Downtown</td>\n",
       "      <td>https://www.marriott.com/PHXAC</td>\n",
       "      <td>100 East Rio Salado Parkway</td>\n",
       "      <td>Tempe</td>\n",
       "      <td>ARIZONA</td>\n",
       "      <td>85281</td>\n",
       "      <td>https://www.marriott.com/hotels/maps/travel/ph...</td>\n",
       "      <td>33.430608</td>\n",
       "      <td>-111.937328</td>\n",
       "      <td>NaN</td>\n",
       "      <td>[ Redefine your expectations when reserving a ...</td>\n",
       "      <td>NaN</td>\n",
       "      <td>4.8</td>\n",
       "      <td>4.5</td>\n",
       "    </tr>\n",
       "  </tbody>\n",
       "</table>\n",
       "</div>"
      ],
      "text/plain": [
       "        brand                             name  \\\n",
       "101  AC Hotel     AC Hotel Huntsville Downtown   \n",
       "102  AC Hotel        AC Hotel Phoenix Biltmore   \n",
       "103  AC Hotel        AC Hotel Phoenix Downtown   \n",
       "104  AC Hotel        AC Hotel Scottsdale North   \n",
       "105  AC Hotel  AC Hotel Phoenix Tempe/Downtown   \n",
       "\n",
       "                                url                          street  \\\n",
       "101  https://www.marriott.com/HSVAR          435 Williams Avenue SW   \n",
       "102  https://www.marriott.com/PHXAB        2811 East Camelback Road   \n",
       "103  https://www.marriott.com/PHXAD            414 North 5th Street   \n",
       "104  https://www.marriott.com/PHXAX  15200 North Kierland Boulevard   \n",
       "105  https://www.marriott.com/PHXAC     100 East Rio Salado Parkway   \n",
       "\n",
       "       locality    state postalcode  \\\n",
       "101  Huntsville  ALABAMA      35801   \n",
       "102     Phoenix  ARIZONA      85016   \n",
       "103     Phoenix  ARIZONA      85004   \n",
       "104  Scottsdale  ARIZONA      85254   \n",
       "105       Tempe  ARIZONA      85281   \n",
       "\n",
       "                                           coordinate1  \\\n",
       "101                                          -86.58764   \n",
       "102                                            Reviews   \n",
       "103                                                NaN   \n",
       "104                                                NaN   \n",
       "105  https://www.marriott.com/hotels/maps/travel/ph...   \n",
       "\n",
       "                                           coordinate2  coordinate3  \\\n",
       "101                                                NaN          NaN   \n",
       "102  https://www.marriott.com/hotels/maps/travel/ph...    33.509403   \n",
       "103                                                NaN          NaN   \n",
       "104                                                NaN          NaN   \n",
       "105                                          33.430608  -111.937328   \n",
       "\n",
       "     coordinate4                                        description  \\\n",
       "101          NaN  [ Discover something new at the AC Hotel Hunts...   \n",
       "102  -112.020028  [ Experience an elevated way of traveling when...   \n",
       "103          NaN  [ AC Hotels by Marriott hotels reflect the sou...   \n",
       "104          NaN  [ AC Hotels reflect the souls of the cities in...   \n",
       "105          NaN  [ Redefine your expectations when reserving a ...   \n",
       "\n",
       "     overall_rating  cleanliness_rating  service_rating  \n",
       "101             NaN                 4.7             4.5  \n",
       "102             NaN                 4.9             4.8  \n",
       "103             NaN                 NaN             NaN  \n",
       "104             NaN                 NaN             NaN  \n",
       "105             NaN                 4.8             4.5  "
      ]
     },
     "execution_count": 12,
     "metadata": {},
     "output_type": "execute_result"
    }
   ],
   "source": [
    "hotel_df.head()"
   ]
  },
  {
   "cell_type": "code",
   "execution_count": 13,
   "metadata": {},
   "outputs": [
    {
     "data": {
      "text/plain": [
       "brand                  137\n",
       "name                     0\n",
       "url                      0\n",
       "street                   0\n",
       "locality                 0\n",
       "state                    0\n",
       "postalcode               0\n",
       "coordinate1            435\n",
       "coordinate2            944\n",
       "coordinate3           1370\n",
       "coordinate4           3109\n",
       "description              0\n",
       "overall_rating        5191\n",
       "cleanliness_rating     553\n",
       "service_rating         553\n",
       "dtype: int64"
      ]
     },
     "execution_count": 13,
     "metadata": {},
     "output_type": "execute_result"
    }
   ],
   "source": [
    "hotel_df.isnull().sum()"
   ]
  },
  {
   "cell_type": "code",
   "execution_count": 14,
   "metadata": {},
   "outputs": [],
   "source": [
    "hotel_df.to_csv('us_marriott_hotels.csv')"
   ]
  },
  {
   "cell_type": "code",
   "execution_count": 15,
   "metadata": {},
   "outputs": [],
   "source": [
    "missing = pd.read_csv('newtest_marriott.csv')"
   ]
  },
  {
   "cell_type": "code",
   "execution_count": 16,
   "metadata": {},
   "outputs": [
    {
     "data": {
      "text/plain": [
       "(5191, 15)"
      ]
     },
     "execution_count": 16,
     "metadata": {},
     "output_type": "execute_result"
    }
   ],
   "source": [
    "hotel_df.shape"
   ]
  },
  {
   "cell_type": "code",
   "execution_count": 17,
   "metadata": {},
   "outputs": [],
   "source": [
    "hotel_df = hotel_df[~hotel_df['service_rating'].isnull()]"
   ]
  },
  {
   "cell_type": "code",
   "execution_count": 18,
   "metadata": {},
   "outputs": [
    {
     "data": {
      "text/html": [
       "<div>\n",
       "<style scoped>\n",
       "    .dataframe tbody tr th:only-of-type {\n",
       "        vertical-align: middle;\n",
       "    }\n",
       "\n",
       "    .dataframe tbody tr th {\n",
       "        vertical-align: top;\n",
       "    }\n",
       "\n",
       "    .dataframe thead th {\n",
       "        text-align: right;\n",
       "    }\n",
       "</style>\n",
       "<table border=\"1\" class=\"dataframe\">\n",
       "  <thead>\n",
       "    <tr style=\"text-align: right;\">\n",
       "      <th></th>\n",
       "      <th>brand</th>\n",
       "      <th>name</th>\n",
       "      <th>url</th>\n",
       "      <th>street</th>\n",
       "      <th>locality</th>\n",
       "      <th>state</th>\n",
       "      <th>postalcode</th>\n",
       "      <th>coordinate1</th>\n",
       "      <th>coordinate2</th>\n",
       "      <th>coordinate3</th>\n",
       "      <th>coordinate4</th>\n",
       "      <th>description</th>\n",
       "      <th>overall_rating</th>\n",
       "      <th>cleanliness_rating</th>\n",
       "      <th>service_rating</th>\n",
       "    </tr>\n",
       "  </thead>\n",
       "  <tbody>\n",
       "    <tr>\n",
       "      <th>101</th>\n",
       "      <td>AC Hotel</td>\n",
       "      <td>AC Hotel Huntsville Downtown</td>\n",
       "      <td>https://www.marriott.com/HSVAR</td>\n",
       "      <td>435 Williams Avenue SW</td>\n",
       "      <td>Huntsville</td>\n",
       "      <td>ALABAMA</td>\n",
       "      <td>35801</td>\n",
       "      <td>-86.58764</td>\n",
       "      <td>NaN</td>\n",
       "      <td>NaN</td>\n",
       "      <td>NaN</td>\n",
       "      <td>[ Discover something new at the AC Hotel Hunts...</td>\n",
       "      <td>NaN</td>\n",
       "      <td>4.7</td>\n",
       "      <td>4.5</td>\n",
       "    </tr>\n",
       "    <tr>\n",
       "      <th>102</th>\n",
       "      <td>AC Hotel</td>\n",
       "      <td>AC Hotel Phoenix Biltmore</td>\n",
       "      <td>https://www.marriott.com/PHXAB</td>\n",
       "      <td>2811 East Camelback Road</td>\n",
       "      <td>Phoenix</td>\n",
       "      <td>ARIZONA</td>\n",
       "      <td>85016</td>\n",
       "      <td>Reviews</td>\n",
       "      <td>https://www.marriott.com/hotels/maps/travel/ph...</td>\n",
       "      <td>33.509403</td>\n",
       "      <td>-112.020028</td>\n",
       "      <td>[ Experience an elevated way of traveling when...</td>\n",
       "      <td>NaN</td>\n",
       "      <td>4.9</td>\n",
       "      <td>4.8</td>\n",
       "    </tr>\n",
       "    <tr>\n",
       "      <th>105</th>\n",
       "      <td>AC Hotel</td>\n",
       "      <td>AC Hotel Phoenix Tempe/Downtown</td>\n",
       "      <td>https://www.marriott.com/PHXAC</td>\n",
       "      <td>100 East Rio Salado Parkway</td>\n",
       "      <td>Tempe</td>\n",
       "      <td>ARIZONA</td>\n",
       "      <td>85281</td>\n",
       "      <td>https://www.marriott.com/hotels/maps/travel/ph...</td>\n",
       "      <td>33.430608</td>\n",
       "      <td>-111.937328</td>\n",
       "      <td>NaN</td>\n",
       "      <td>[ Redefine your expectations when reserving a ...</td>\n",
       "      <td>NaN</td>\n",
       "      <td>4.8</td>\n",
       "      <td>4.5</td>\n",
       "    </tr>\n",
       "    <tr>\n",
       "      <th>106</th>\n",
       "      <td>AC Hotel</td>\n",
       "      <td>AC Hotel Tucson Downtown</td>\n",
       "      <td>https://www.marriott.com/TUSAD</td>\n",
       "      <td>151 East Broadway Boulevard</td>\n",
       "      <td>Tucson</td>\n",
       "      <td>ARIZONA</td>\n",
       "      <td>85701</td>\n",
       "      <td>Reviews</td>\n",
       "      <td>https://www.marriott.com/hotels/maps/travel/tu...</td>\n",
       "      <td>32.221308</td>\n",
       "      <td>-110.967489</td>\n",
       "      <td>[ Experience the soul of the city at AC Hotel ...</td>\n",
       "      <td>NaN</td>\n",
       "      <td>4.7</td>\n",
       "      <td>4.3</td>\n",
       "    </tr>\n",
       "    <tr>\n",
       "      <th>108</th>\n",
       "      <td>AC Hotel</td>\n",
       "      <td>AC Hotel Los Angeles South Bay</td>\n",
       "      <td>https://www.marriott.com/LAXAE</td>\n",
       "      <td>2130 East Maple Avenue</td>\n",
       "      <td>El Segundo</td>\n",
       "      <td>CALIFORNIA</td>\n",
       "      <td>90245</td>\n",
       "      <td>Reviews</td>\n",
       "      <td>https://www.marriott.com/hotels/maps/travel/la...</td>\n",
       "      <td>33.92665</td>\n",
       "      <td>-118.386406</td>\n",
       "      <td>[ OUR HOTEL REMAINS OPEN DURING THE COVID-19 E...</td>\n",
       "      <td>NaN</td>\n",
       "      <td>4.7</td>\n",
       "      <td>4.4</td>\n",
       "    </tr>\n",
       "  </tbody>\n",
       "</table>\n",
       "</div>"
      ],
      "text/plain": [
       "        brand                             name  \\\n",
       "101  AC Hotel     AC Hotel Huntsville Downtown   \n",
       "102  AC Hotel        AC Hotel Phoenix Biltmore   \n",
       "105  AC Hotel  AC Hotel Phoenix Tempe/Downtown   \n",
       "106  AC Hotel         AC Hotel Tucson Downtown   \n",
       "108  AC Hotel   AC Hotel Los Angeles South Bay   \n",
       "\n",
       "                                url                       street    locality  \\\n",
       "101  https://www.marriott.com/HSVAR       435 Williams Avenue SW  Huntsville   \n",
       "102  https://www.marriott.com/PHXAB     2811 East Camelback Road     Phoenix   \n",
       "105  https://www.marriott.com/PHXAC  100 East Rio Salado Parkway       Tempe   \n",
       "106  https://www.marriott.com/TUSAD  151 East Broadway Boulevard      Tucson   \n",
       "108  https://www.marriott.com/LAXAE       2130 East Maple Avenue  El Segundo   \n",
       "\n",
       "          state postalcode                                        coordinate1  \\\n",
       "101     ALABAMA      35801                                          -86.58764   \n",
       "102     ARIZONA      85016                                            Reviews   \n",
       "105     ARIZONA      85281  https://www.marriott.com/hotels/maps/travel/ph...   \n",
       "106     ARIZONA      85701                                            Reviews   \n",
       "108  CALIFORNIA      90245                                            Reviews   \n",
       "\n",
       "                                           coordinate2  coordinate3  \\\n",
       "101                                                NaN          NaN   \n",
       "102  https://www.marriott.com/hotels/maps/travel/ph...    33.509403   \n",
       "105                                          33.430608  -111.937328   \n",
       "106  https://www.marriott.com/hotels/maps/travel/tu...    32.221308   \n",
       "108  https://www.marriott.com/hotels/maps/travel/la...     33.92665   \n",
       "\n",
       "     coordinate4                                        description  \\\n",
       "101          NaN  [ Discover something new at the AC Hotel Hunts...   \n",
       "102  -112.020028  [ Experience an elevated way of traveling when...   \n",
       "105          NaN  [ Redefine your expectations when reserving a ...   \n",
       "106  -110.967489  [ Experience the soul of the city at AC Hotel ...   \n",
       "108  -118.386406  [ OUR HOTEL REMAINS OPEN DURING THE COVID-19 E...   \n",
       "\n",
       "     overall_rating  cleanliness_rating  service_rating  \n",
       "101             NaN                 4.7             4.5  \n",
       "102             NaN                 4.9             4.8  \n",
       "105             NaN                 4.8             4.5  \n",
       "106             NaN                 4.7             4.3  \n",
       "108             NaN                 4.7             4.4  "
      ]
     },
     "execution_count": 18,
     "metadata": {},
     "output_type": "execute_result"
    }
   ],
   "source": [
    "hotel_df.head()"
   ]
  },
  {
   "cell_type": "code",
   "execution_count": 20,
   "metadata": {},
   "outputs": [],
   "source": [
    "missing = missing.drop(['Unnamed: 0'], axis=1)"
   ]
  },
  {
   "cell_type": "code",
   "execution_count": 21,
   "metadata": {},
   "outputs": [],
   "source": [
    "new_hotel_df = pd.concat([hotel_df, missing], ignore_index=True)"
   ]
  },
  {
   "cell_type": "code",
   "execution_count": 22,
   "metadata": {},
   "outputs": [
    {
     "data": {
      "text/plain": [
       "(5191, 15)"
      ]
     },
     "execution_count": 22,
     "metadata": {},
     "output_type": "execute_result"
    }
   ],
   "source": [
    "new_hotel_df.shape"
   ]
  },
  {
   "cell_type": "code",
   "execution_count": 23,
   "metadata": {},
   "outputs": [
    {
     "data": {
      "text/plain": [
       "brand                  137\n",
       "name                     0\n",
       "url                      0\n",
       "street                   0\n",
       "locality                 0\n",
       "state                    0\n",
       "postalcode               0\n",
       "coordinate1            435\n",
       "coordinate2            944\n",
       "coordinate3           1370\n",
       "coordinate4           3109\n",
       "description              0\n",
       "overall_rating        5191\n",
       "cleanliness_rating     553\n",
       "service_rating          99\n",
       "dtype: int64"
      ]
     },
     "execution_count": 23,
     "metadata": {},
     "output_type": "execute_result"
    }
   ],
   "source": [
    "new_hotel_df.isnull().sum()"
   ]
  },
  {
   "cell_type": "code",
   "execution_count": 24,
   "metadata": {},
   "outputs": [],
   "source": [
    "new_hotel_df.to_csv('us_marriott_hotels.csv')"
   ]
  },
  {
   "cell_type": "code",
   "execution_count": null,
   "metadata": {},
   "outputs": [],
   "source": [
    "# test = hotel_df[hotel_df['service_rating'].isnull()]"
   ]
  },
  {
   "cell_type": "code",
   "execution_count": null,
   "metadata": {},
   "outputs": [],
   "source": [
    "# for index, row in test.iterrows():\n",
    "#     city = row['locality']\n",
    "#     url = row['url']\n",
    "#     name = row['name']\n",
    "#     print(f'{name} in {city}')\n",
    "#     print(name)\n",
    "#     print(url)"
   ]
  },
  {
   "cell_type": "code",
   "execution_count": null,
   "metadata": {},
   "outputs": [],
   "source": [
    "# test['brand'].value_counts()"
   ]
  },
  {
   "cell_type": "code",
   "execution_count": null,
   "metadata": {},
   "outputs": [],
   "source": [
    "# test.isnull().sum()"
   ]
  },
  {
   "cell_type": "code",
   "execution_count": null,
   "metadata": {},
   "outputs": [],
   "source": [
    "# driver = Chrome(executable_path='/Users/chrisjohnson/Downloads/chromedriver')\n",
    "\n",
    "# for x in test[(test['brand'] == 'Courtyard')]['url']:\n",
    "#     driver.get(x)\n",
    "#     time.sleep(2)\n"
   ]
  },
  {
   "cell_type": "code",
   "execution_count": null,
   "metadata": {},
   "outputs": [],
   "source": [
    "# %%time\n",
    "# counter = 0\n",
    "# hotelratings = []\n",
    "# for index, row in test.iterrows():\n",
    "#     name = row['name']\n",
    "#     url = row['url']\n",
    "#     try:\n",
    "#         res = requests.get(url)\n",
    "#         soup = BeautifulSoup(res.content, 'lxml')\n",
    "#         rating = {}\n",
    "#         rating['name'] = name\n",
    "#         rating['rating'] = soup.find('p', {'itemprop' : 'ratingValue'}).text\n",
    "#         hotelratings.append(rating)\n",
    "#         print(rating)\n",
    "#     except:\n",
    "#         try:\n",
    "#             res = requests.get(url)\n",
    "#             soup = BeautifulSoup(res.content, 'lxml')\n",
    "#             rating = {}\n",
    "#             rating['name'] = name\n",
    "#             rating['rating'] = soup.find('p', {'class': 't-font-m l-margin-bottom-half l-margin-top-none'}).find_all('span')[0].text\n",
    "#             hotelratings.append(rating)\n",
    "#             print(rating)\n",
    "#         except:\n",
    "#             rating = {}\n",
    "#             rating['name'] = name\n",
    "#             rating['rating'] = 'N/A'\n",
    "#             hotelratings.append(rating)\n",
    "#             print(rating)\n",
    "#     counter += 1\n",
    "#     print(f'Collected {counter} hotels.')\n",
    "#     print('='*50)\n",
    "#     print()\n",
    "# hotelratings_df = pd.DataFrame(hotelratings)\n",
    "# newtest = pd.merge(test, hotelratings_df, on='name')"
   ]
  },
  {
   "cell_type": "code",
   "execution_count": null,
   "metadata": {},
   "outputs": [],
   "source": [
    "# newtest.shape"
   ]
  },
  {
   "cell_type": "code",
   "execution_count": null,
   "metadata": {},
   "outputs": [],
   "source": [
    "# test.shape"
   ]
  },
  {
   "cell_type": "code",
   "execution_count": null,
   "metadata": {},
   "outputs": [],
   "source": [
    "# newtest = newtest.drop(['service_rating'], axis=1)"
   ]
  },
  {
   "cell_type": "code",
   "execution_count": null,
   "metadata": {},
   "outputs": [],
   "source": [
    "# newtest.rename(columns={\"rating\": \"service_rating\"}, inplace=True)"
   ]
  },
  {
   "cell_type": "code",
   "execution_count": null,
   "metadata": {},
   "outputs": [],
   "source": [
    "# for x in newtest[(newtest['service_rating'] == 'N/A')]['name']:\n",
    "#     print(x)"
   ]
  },
  {
   "cell_type": "code",
   "execution_count": null,
   "metadata": {},
   "outputs": [],
   "source": [
    "# newtest.to_csv('newtest_marriott.csv')"
   ]
  },
  {
   "cell_type": "code",
   "execution_count": null,
   "metadata": {},
   "outputs": [],
   "source": [
    "# url = 'https://www.marriott.com/hotels/travel/vboff-fairfield-inn-and-suites-boulder/'"
   ]
  },
  {
   "cell_type": "code",
   "execution_count": null,
   "metadata": {},
   "outputs": [],
   "source": [
    "# res = requests.get(url)\n",
    "# soup = BeautifulSoup(res.content, 'lxml')"
   ]
  },
  {
   "cell_type": "code",
   "execution_count": null,
   "metadata": {},
   "outputs": [],
   "source": [
    "# rating1 = soup.find('p', {'itemprop' : 'ratingValue'}).text"
   ]
  },
  {
   "cell_type": "code",
   "execution_count": null,
   "metadata": {},
   "outputs": [],
   "source": [
    "# soup.find('p', {'class': 't-font-m l-margin-bottom-half l-margin-top-none'}).find_all('span')[0].text"
   ]
  },
  {
   "cell_type": "code",
   "execution_count": null,
   "metadata": {},
   "outputs": [],
   "source": []
  },
  {
   "cell_type": "code",
   "execution_count": null,
   "metadata": {},
   "outputs": [],
   "source": []
  }
 ],
 "metadata": {
  "kernelspec": {
   "display_name": "Python 3",
   "language": "python",
   "name": "python3"
  },
  "language_info": {
   "codemirror_mode": {
    "name": "ipython",
    "version": 3
   },
   "file_extension": ".py",
   "mimetype": "text/x-python",
   "name": "python",
   "nbconvert_exporter": "python",
   "pygments_lexer": "ipython3",
   "version": "3.7.6"
  }
 },
 "nbformat": 4,
 "nbformat_minor": 4
}
