{
 "cells": [
  {
   "cell_type": "code",
   "execution_count": 20,
   "metadata": {},
   "outputs": [],
   "source": [
    "import numpy as np\n",
    "import pandas as pd\n",
    "from bs4 import BeautifulSoup\n",
    "import requests\n",
    "import json\n"
   ]
  },
  {
   "cell_type": "code",
   "execution_count": 21,
   "metadata": {},
   "outputs": [],
   "source": [
    "url = \"https://www.hyatt.com/en-US/hotel/arizona/hyatt-regency-scottsdale-resort-and-spa/scott\"\n",
    "res = requests.get(url)\n",
    "soup = BeautifulSoup(res.content, 'html')"
   ]
  },
  {
   "cell_type": "code",
   "execution_count": 22,
   "metadata": {},
   "outputs": [],
   "source": [
    "address= soup.find('span', {'class': 'b-d-inline-block'})"
   ]
  },
  {
   "cell_type": "code",
   "execution_count": 23,
   "metadata": {},
   "outputs": [],
   "source": [
    "hoteladdress = {}\n",
    "hoteladdress['street'] = address.find_all('span')[0].text.strip()[:-1]\n",
    "addresslist = address.find_all('span')[2].text.split(',')\n",
    "hoteladdress['city'] = addresslist[0]\n",
    "hoteladdress['state'] = addresslist[1]\n",
    "hoteladdress['postal'] = addresslist[3]\n"
   ]
  },
  {
   "cell_type": "code",
   "execution_count": 24,
   "metadata": {},
   "outputs": [],
   "source": [
    "# descriptions2 = soup.find_all('div', {'class' : 'desc'})"
   ]
  },
  {
   "cell_type": "code",
   "execution_count": 25,
   "metadata": {},
   "outputs": [],
   "source": [
    "# desclist = []\n",
    "# for x in descriptions:\n",
    "#     for z in x('div'):\n",
    "#         z = z.text.strip()\n",
    "# #         print(z)\n",
    "# #         print('='*50)\n",
    "#         if z not in desclist:\n",
    "#             desclist.append(z)\n",
    "# desclist"
   ]
  },
  {
   "cell_type": "code",
   "execution_count": 26,
   "metadata": {},
   "outputs": [],
   "source": [
    "full_description = []"
   ]
  },
  {
   "cell_type": "code",
   "execution_count": 27,
   "metadata": {},
   "outputs": [],
   "source": [
    "descriptions1 = soup.find_all('section', {'class' : 'hotel-description component'})\n",
    "desc1 = descriptions1[0].find('p').text\n",
    "full_description.append(desc1)\n",
    "\n",
    "descriptions2 = soup.find_all('div', {'class' : 'text'})\n",
    "for x in descriptions2:\n",
    "    x = x.text.strip()\n",
    "    if x not in full_description:\n",
    "        full_description.append(x)\n",
    "        \n",
    "descriptions3 = soup.find_all('div', {'class' : 'desc'})\n",
    "for x in descriptions3:\n",
    "    x = x.text.strip()\n",
    "#     print(x)\n",
    "#     print('='*50)\n",
    "    if x not in full_description:\n",
    "        full_description.append(x)\n",
    "        \n",
    "descriptions4 = soup.find_all('div', {'class' : 'richText'})\n",
    "for x in descriptions4:\n",
    "#     print(x)\n",
    "    x = x.text.strip()\n",
    "#     print(x)\n",
    "#     print('='*50)\n",
    "    if x not in full_description:\n",
    "        full_description.append(x)\n",
    "\n",
    "finaldesc = ''\n",
    "for x in full_description:\n",
    "    x = x.replace('\\n', '')\n",
    "    x = ' ' + x\n",
    "    finaldesc += x"
   ]
  },
  {
   "cell_type": "code",
   "execution_count": 28,
   "metadata": {},
   "outputs": [
    {
     "name": "stdout",
     "output_type": "stream",
     "text": [
      "{'street': '7500 E. Doubletree Ranch Road', 'city': 'Scottsdale', 'state': ' Arizona', 'postal': ' 85258'}\n",
      " Set amidst flowering cactus and framed against the majestic McDowell Mountains, our Arizona destination resort is surrounded by adventures and miles from the ordinary. Splash into our 2.5-acre water playground complete with a sand beach and 3-story, high speed waterslide, learn key golf techniques from a professional, enjoy to your favorite music with live nightly entertainment or relax in Spa Avania’s Himalayan Salt Room. From romantic dinners and gondola rides to activities for your entire family, experience the luxury amenities that define our Scottsdale resort and spa. A resort fee of $40 plus tax will apply to each night of your stay. Enjoy exclusive benefits at our hotel with this fee, including self-parking, poolside activities, bicycle rentals, and more. The resort’s water playground has long been a favorite of resort guests, providing 10 swimming pools, 20 fountains, 45 waterfalls, and a 30’, 3-story high-speed waterslide to enjoy.  Your poolside needs will be met by our H2Oasis, offering favorite foods alfresco, beverages, and tropical cocktails. Reserve your cabana, daybed or premium pool chairs through iPoolside, limited quantities available. Hours: 6:00am – 11:00pm dailyCabana Hours: 8:00am – 6:00pm dailyH2Oasis: 11:00am – 5:00pm daily Explore our holistic approach to every spa treatment offered at our luxurious indoor-outdoor oasis. At Spa Avania, we offer personalized treatment offerings, mineral water therapy, uniquely synchronized music styling, flavorful menu, and a selection of the world’s finest teas into an artful indoor-outdoor oasis.        View Details Play one of the top rated golf courses in the southwest, exclusively available to private club members and the guests of our resort. Surrounded by incredible scenery, Gainey Ranch Golf Club offers an exciting year-round challenge for golfers of any skill level. This fun and interactive program lets your child explore the culture and geography of our fascinating area, as games and activities are intermingled with learning experiences. Their days will be filled with interesting projects and adventures to be shared with friends, such as creating Native American headbands or pinch pots, playing games in the water playground, listening to cowboy storytellers or learning about Reptiles of the Desert.         View Details We've been coming to the Hyatt Gainey Ranch for 15 years and it is still one of our top two destinations. The staff is outstanding and go went above and beyond on more than one occasion. The Center Stage Bar is a great place to listen to music, meet people or watch a sporting event. Eight on-site restaurants and bars, serving fresh Southwestern cuisine, poolside café and cocktails, traditional Italian food and steaks, and live music. Make moments that will last a lifetime at our breathtaking Scottsdale resort & spa. Our flexible, functional Scottsdale space is ideal for  a variety of events both large and small. Fees                        $150.00 per stay up to 6 nights and $150.00 additional “Deep Cleaning” fee from day 7 to day 30, non-refundable. Weight Limits                    50 lbs or less*Any pets over 50 lbs may be allowed at the Resort's discretion. The safety and wellbeing of our guests and colleagues is always a top priority. In light of COVID-19 and for precautionary measures, the hotel’s dining, bar, fitness, spa and pool facilities are currently limited. Please check here for specific information on hours of operations and service details. For additional inquiries, please contact the hotel directly. Face coverings – Required in hotel indoor public areas and when moving around in outdoor areasGovernment mandate - This location may have COVID-19 travel restrictions in place including national, local and health advisories and requirements. Learn more Family Friendly Scottsdale Hotel and Resort Rooms Enjoy the comforts of your stylish guestroom, each with a private balcony or terrace. Elevate your stay with a preferred view of the majestic McDowell Mountains, a luxurious suite or access to our exclusive Regency Club. Our Hotel Explore our holistic approach to every spa treatment offered at our luxurious indoor-outdoor oasis. At Spa Avania, we offer personalized treatment offerings, mineral water therapy, uniquely synchronized music styling, flavorful menu, and a selection of the world’s finest teas into an artful indoor-outdoor oasis. This fun and interactive program lets your child explore the culture and geography of our fascinating area, as games and activities are intermingled with learning experiences. Their days will be filled with interesting projects and adventures to be shared with friends, such as creating Native American headbands or pinch pots, playing games in the water playground, listening to cowboy storytellers or learning about Reptiles of the Desert. Special Events $150.00 per stay up to 6 nights and $150.00 additional “Deep Cleaning” fee from day 7 to day 30, non-refundable. 50 lbs or less*Any pets over 50 lbs may be allowed at the Resort's discretion. Photos + Reviews Another outstanding experience! What else is happening at Hyatt Regency Scottsdale Resort & Spa?\n"
     ]
    }
   ],
   "source": [
    "print(hoteladdress)\n",
    "print(finaldesc)"
   ]
  },
  {
   "cell_type": "code",
   "execution_count": null,
   "metadata": {},
   "outputs": [],
   "source": [
    "testlist = []"
   ]
  },
  {
   "cell_type": "code",
   "execution_count": null,
   "metadata": {},
   "outputs": [],
   "source": [
    "descriptions4 = soup.find_all('div', {'class' : 'richText'})\n",
    "for x in descriptions4:\n",
    "#     print(x)\n",
    "    x = x.text.strip()\n",
    "    print(x)\n",
    "    print('='*50)\n",
    "    if x not in testlist:\n",
    "        testlist.append(x)"
   ]
  },
  {
   "cell_type": "code",
   "execution_count": null,
   "metadata": {},
   "outputs": [],
   "source": [
    "for x in descriptions3:\n",
    "    x = x.text.strip()\n",
    "    print(x)\n",
    "    print('='*50)\n",
    "    if x not in testlist:\n",
    "        testlist.append(x)"
   ]
  },
  {
   "cell_type": "code",
   "execution_count": null,
   "metadata": {},
   "outputs": [],
   "source": [
    "for x in testlist:\n",
    "    print(x)\n",
    "    print('='*50)"
   ]
  },
  {
   "cell_type": "code",
   "execution_count": null,
   "metadata": {},
   "outputs": [],
   "source": [
    "def get_stuff(string):\n",
    "    url = \"https://www.wyndhamhotels.com/laquinta/birmingham-alabama/la-quinta-birmingham-hoover/overview\"\n",
    "    res = requests.get(url)\n",
    "    soup = BeautifulSoup(res.content, 'lxml')\n",
    "    hoteladdresses = []\n",
    "    try:\n",
    "        address = soup.find_all('div', {'itemprop' : 'address'})\n",
    "        hoteladdress = {}\n",
    "        newaddress = []\n",
    "        for x in address[0].find('span'):\n",
    "            x = str(x).replace('<span>', '').replace('</span>','').replace(',','').strip()\n",
    "            if len(x) >= 2:\n",
    "                print(x)\n",
    "                newaddress.append(x)\n",
    "        hoteladdress['url'] = url\n",
    "        hoteladdress['street'] = newaddress[0]\n",
    "        hoteladdress['city'] = newaddress[1]\n",
    "        hoteladdress['state'] = newaddress[2]\n",
    "        hoteladdress['postal'] = newaddress[3]\n",
    "        hoteladdresses.append(hoteladdress)\n",
    "    except:\n",
    "        hoteladdress = {}\n",
    "#         newaddress = []\n",
    "#         for x in address[0].find('span'):\n",
    "#             x = str(x).replace('<span>', '').replace('</span>','').replace(',','').strip()\n",
    "#             if len(x) >= 2:\n",
    "#                 print(x)\n",
    "#                 newaddress.append(x)\n",
    "        hoteladdress['url'] = url\n",
    "        hoteladdress['street'] = 'N/A'\n",
    "        hoteladdress['city'] = 'N/A'\n",
    "        hoteladdress['state'] = 'N/A'\n",
    "        hoteladdress['postal'] = 'N/A'\n",
    "        hoteladdresses.append(hoteladdress)\n",
    "        \n",
    "    allhoteldescriptions = []\n",
    "    try:\n",
    "        hoteldescription = []\n",
    "        try:\n",
    "            description1 = soup.find('div', {'class' : 'property-intro-copy'})\n",
    "            try:\n",
    "                desc1 = description1('h2')[0].text\n",
    "                hoteldescription.append(desc1)\n",
    "            except:\n",
    "                pass\n",
    "            try:\n",
    "                desc2 = description1('h3')[0].text\n",
    "                hoteldescription.append(desc2)\n",
    "            except:\n",
    "                pass\n",
    "            try:\n",
    "                desc3 = description1('p')[0].text\n",
    "                hoteldescription.append(desc3)\n",
    "            except:\n",
    "                pass\n",
    "        except:\n",
    "            pass\n",
    "        try:\n",
    "            description2 = soup.find_all('div', {'class' : 'content-module-section-holder'})\n",
    "            try:\n",
    "                desc4 = description2[0]('p')[0].text\n",
    "                hoteldescription.append(desc4)\n",
    "            except:\n",
    "                pass\n",
    "            try:\n",
    "                desc5 = description2[0]('p')[1].text\n",
    "                hoteldescription.append(desc5)\n",
    "            except:\n",
    "                pass\n",
    "            try:\n",
    "                desc6 = description2[1]('p')[0].text\n",
    "                hoteldescription.append(desc6)\n",
    "            except:\n",
    "                pass\n",
    "            try:\n",
    "                desc7 = description2[1]('p')[1].text\n",
    "                hoteldescription.append(desc7)\n",
    "            except:\n",
    "                pass\n",
    "        except:\n",
    "            pass\n",
    "        stringdesc = ''\n",
    "        for x in hoteldescription:\n",
    "            x = ' ' + x\n",
    "            stringdesc += x\n",
    "        descdict = {}\n",
    "        descdict['url'] = url\n",
    "        descdict['description'] = stringdesc\n",
    "        allhoteldescriptions.append(descdict)\n",
    "    except:\n",
    "        descdict = {}\n",
    "        descdict['url'] = url\n",
    "        descdict['description'] = 'N/A'\n",
    "        allhoteldescriptions.append(descdict)\n",
    "    hotel_df = pd.DataFrame(hoteladdresses)\n",
    "    desc_df = pd.DataFrame(allhoteldescriptions)\n",
    "    merged = pd.merge(hotel_df, desc_df)\n",
    "    return merged\n",
    "        "
   ]
  },
  {
   "cell_type": "code",
   "execution_count": null,
   "metadata": {},
   "outputs": [],
   "source": [
    "get_stuff('string')"
   ]
  },
  {
   "cell_type": "code",
   "execution_count": null,
   "metadata": {},
   "outputs": [],
   "source": []
  }
 ],
 "metadata": {
  "kernelspec": {
   "display_name": "Python 3",
   "language": "python",
   "name": "python3"
  },
  "language_info": {
   "codemirror_mode": {
    "name": "ipython",
    "version": 3
   },
   "file_extension": ".py",
   "mimetype": "text/x-python",
   "name": "python",
   "nbconvert_exporter": "python",
   "pygments_lexer": "ipython3",
   "version": "3.7.6"
  }
 },
 "nbformat": 4,
 "nbformat_minor": 4
}
