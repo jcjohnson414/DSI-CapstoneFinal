{
 "cells": [
  {
   "cell_type": "code",
   "execution_count": 1,
   "metadata": {},
   "outputs": [],
   "source": [
    "import numpy as np\n",
    "import pandas as pd\n",
    "\n",
    "# pd.set_option('max_columns', None)\n",
    "# pd.set_option('max_rows', None)\\n\",\n",
    "\n",
    "from sklearn.metrics.pairwise import cosine_similarity\n",
    "from sklearn.feature_extraction.text import CountVectorizer\n",
    "\n",
    "import en_core_web_lg\n",
    "from spacy.lang.en import English\n",
    "from spacy.lang.en.stop_words import STOP_WORDS\n",
    "\n",
    "from textblob import TextBlob\n",
    "\n",
    "from datetime import datetime"
   ]
  },
  {
   "cell_type": "code",
   "execution_count": 3,
   "metadata": {},
   "outputs": [],
   "source": [
    "data = pd.read_csv('./Data/all_hotels_cleaned.csv')"
   ]
  },
  {
   "cell_type": "code",
   "execution_count": 5,
   "metadata": {},
   "outputs": [],
   "source": [
    "# create a new feature column by concatonating rewards, brand, description, city, and category\n",
    "\n",
    "bagofwords = []\n",
    "columns = ['rewards', 'brand', 'description', 'city', 'category']\n",
    "for index, row in data.iterrows():\n",
    "    words = ''\n",
    "    for col in columns:\n",
    "        words += ''.join(row[col]) + ' '\n",
    "    bagofwords.append(words)\n",
    "\n",
    "data['Bag_of_words'] = bagofwords"
   ]
  },
  {
   "cell_type": "code",
   "execution_count": 6,
   "metadata": {},
   "outputs": [],
   "source": [
    "nlp = en_core_web_lg.load()"
   ]
  },
  {
   "cell_type": "code",
   "execution_count": 8,
   "metadata": {},
   "outputs": [],
   "source": [
    "# Creating spacydocs for each bag of words for each hotel\n",
    "\n",
    "spacydocs = []\n",
    "for x in data['Bag_of_words']:\n",
    "    doc = nlp(x)\n",
    "    spacydocs.append(doc)\n",
    "\n",
    "data['spacydocs'] = spacydocs"
   ]
  },
  {
   "cell_type": "code",
   "execution_count": 10,
   "metadata": {},
   "outputs": [],
   "source": [
    "# Creating vectors for the bag of words for each hotel\n",
    "vectorlist = []\n",
    "for doc in data['spacydocs']:\n",
    "    vector = doc.vector\n",
    "    vectorlist.append(vector)\n",
    "data['vectors'] = vectorlist"
   ]
  },
  {
   "cell_type": "code",
   "execution_count": 13,
   "metadata": {},
   "outputs": [
    {
     "data": {
      "text/plain": [
       "(21248, 16)"
      ]
     },
     "execution_count": 13,
     "metadata": {},
     "output_type": "execute_result"
    }
   ],
   "source": [
    "data.shape"
   ]
  },
  {
   "cell_type": "code",
   "execution_count": 53,
   "metadata": {},
   "outputs": [],
   "source": [
    "data.to_csv('data_for_app6.csv')"
   ]
  }
 ],
 "metadata": {
  "kernelspec": {
   "display_name": "Python 3",
   "language": "python",
   "name": "python3"
  },
  "language_info": {
   "codemirror_mode": {
    "name": "ipython",
    "version": 3
   },
   "file_extension": ".py",
   "mimetype": "text/x-python",
   "name": "python",
   "nbconvert_exporter": "python",
   "pygments_lexer": "ipython3",
   "version": "3.7.6"
  }
 },
 "nbformat": 4,
 "nbformat_minor": 4
}
