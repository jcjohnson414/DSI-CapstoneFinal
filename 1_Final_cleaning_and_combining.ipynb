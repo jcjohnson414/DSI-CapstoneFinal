{
 "cells": [
  {
   "cell_type": "markdown",
   "metadata": {},
   "source": [
    "# THIS NOTEBOOK HAS MINIMUM COMMENTING/MARKDOWN BECAUSE I HAD TO RECREATE IT THIS MORNING"
   ]
  },
  {
   "cell_type": "code",
   "execution_count": 1,
   "metadata": {},
   "outputs": [],
   "source": [
    "import numpy as np\n",
    "import pandas as pd\n",
    "\n",
    "\n",
    "# pd.set_option('max_columns', None)\n",
    "# pd.set_option('max_rows', None)"
   ]
  },
  {
   "cell_type": "code",
   "execution_count": 2,
   "metadata": {},
   "outputs": [],
   "source": [
    "#Import datasets of each hotel brand\n",
    "\n",
    "a = pd.read_csv('./Data/final_hilton.csv')\n",
    "a = a.drop(['Unnamed: 0'], axis=1)\n",
    "b = pd.read_csv('./Data/final_hyatt.csv')\n",
    "b = b.drop(['Unnamed: 0'], axis=1)\n",
    "c = pd.read_csv('./Data/final_ihg.csv')\n",
    "c = c.drop(['Unnamed: 0'], axis=1)\n",
    "d = pd.read_csv('./Data/final_marriott.csv')\n",
    "d = d.drop(['Unnamed: 0'], axis=1)\n",
    "e = pd.read_csv('./Data/final_radisson.csv')\n",
    "e = e.drop(['Unnamed: 0'], axis=1)\n",
    "f = pd.read_csv('./Data/final_wyndham.csv')\n",
    "f = f.drop(['Unnamed: 0'], axis=1)"
   ]
  },
  {
   "cell_type": "code",
   "execution_count": 3,
   "metadata": {},
   "outputs": [
    {
     "name": "stdout",
     "output_type": "stream",
     "text": [
      "Index(['name', 'description', 'streetAddress', 'addressLocality',\n",
      "       'addressRegion', 'addressCountry', 'postalCode', 'url', 'latitude',\n",
      "       'longitude', 'rating', 'brand'],\n",
      "      dtype='object')\n",
      "==================================================\n",
      "Index(['name', 'url', 'street', 'city', 'state', 'postal', 'description',\n",
      "       'rating'],\n",
      "      dtype='object')\n",
      "==================================================\n",
      "Index(['name', 'description', 'url', 'street', 'locality', 'region',\n",
      "       'postalcode', 'address3', 'rating', 'brand'],\n",
      "      dtype='object')\n",
      "==================================================\n",
      "Index(['brand', 'name', 'url', 'street', 'locality', 'state', 'postalcode',\n",
      "       'coordinate1', 'coordinate2', 'coordinate3', 'coordinate4',\n",
      "       'description', 'overall_rating', 'cleanliness_rating',\n",
      "       'service_rating'],\n",
      "      dtype='object')\n",
      "==================================================\n",
      "Index(['name', 'url', 'street', 'locality', 'state', 'postal', 'description',\n",
      "       'rating'],\n",
      "      dtype='object')\n",
      "==================================================\n",
      "Index(['name', 'url', 'street', 'city', 'state', 'postal', 'description',\n",
      "       'rating'],\n",
      "      dtype='object')\n",
      "==================================================\n"
     ]
    }
   ],
   "source": [
    "# check the columns for each dataframe\n",
    "\n",
    "print(a.columns)\n",
    "print('='*50)\n",
    "print(b.columns)\n",
    "print('='*50)\n",
    "print(c.columns)\n",
    "print('='*50)\n",
    "print(d.columns)\n",
    "print('='*50)\n",
    "print(e.columns)\n",
    "print('='*50)\n",
    "print(f.columns)\n",
    "print('='*50)"
   ]
  },
  {
   "cell_type": "markdown",
   "metadata": {},
   "source": [
    "## Rename, remove, and create columns in all the datasets so that they match each other"
   ]
  },
  {
   "cell_type": "code",
   "execution_count": 4,
   "metadata": {},
   "outputs": [],
   "source": [
    "e = e.rename(columns={\"locality\": \"city\"})"
   ]
  },
  {
   "cell_type": "code",
   "execution_count": 5,
   "metadata": {},
   "outputs": [],
   "source": [
    "d = d.drop(['coordinate1', 'coordinate2', 'coordinate3', 'coordinate4', 'overall_rating', 'cleanliness_rating'], axis=1)"
   ]
  },
  {
   "cell_type": "code",
   "execution_count": 6,
   "metadata": {},
   "outputs": [],
   "source": [
    "d = d.rename(columns={'service_rating' : 'rating', 'postalcode' : 'postal', 'locality' : 'city'})"
   ]
  },
  {
   "cell_type": "code",
   "execution_count": 7,
   "metadata": {},
   "outputs": [],
   "source": [
    "c = c.rename(columns={'postalcode' : 'postal', 'region' : 'state', 'locality' : 'city'})"
   ]
  },
  {
   "cell_type": "code",
   "execution_count": 8,
   "metadata": {},
   "outputs": [],
   "source": [
    "c = c.drop(['address3'], axis=1)"
   ]
  },
  {
   "cell_type": "code",
   "execution_count": 9,
   "metadata": {},
   "outputs": [],
   "source": [
    "a = a.rename(columns={'streetAddress' : 'street', 'addressLocality' : 'city',\n",
    "       'addressRegion' : 'state', 'postalCode' : 'postal'})"
   ]
  },
  {
   "cell_type": "code",
   "execution_count": 10,
   "metadata": {},
   "outputs": [],
   "source": [
    "a = a.drop(['addressCountry', 'latitude', 'longitude'], axis=1)"
   ]
  },
  {
   "cell_type": "code",
   "execution_count": 11,
   "metadata": {},
   "outputs": [],
   "source": [
    "b['brand'] = ''"
   ]
  },
  {
   "cell_type": "code",
   "execution_count": 12,
   "metadata": {},
   "outputs": [],
   "source": [
    "# creating brand columns for Hyatt dataframe\n",
    "\n",
    "for index, row in b.iterrows():\n",
    "    if 'Hyatt Place' in row['name']:\n",
    "        b['brand'][index] = 'Hyatt Place'\n",
    "    elif 'Hyatt House' in row['name']:\n",
    "        b['brand'][index] = 'Houte House'\n",
    "    elif 'Hyatt Regency' in row['name']:\n",
    "        b['brand'][index] = 'Hyatt Regency'\n",
    "    elif 'Grand Hyatt' in row['name']:\n",
    "        b['brand'][index] = 'Grand Hyatt'\n",
    "    elif 'Park Hyatt' in row['name']:\n",
    "        b['brand'][index] = 'Park Hyatt'\n",
    "    elif 'Andaz' in row['name']:\n",
    "        b['brand'][index] = 'Andaz'\n",
    "    elif 'Thompson' in row['name']:\n",
    "        b['brand'][index] = 'Thompson'\n",
    "    elif 'Centric' in row['name']:\n",
    "        b['brand'][index] = 'Hyatt Centric'\n",
    "    elif 'miraval' in row['url']:\n",
    "        b['brand'][index] = 'MiRaval'\n",
    "    elif 'jdv-' in row['url']:\n",
    "        b['brand'][index] = 'Joie De Vivre'\n",
    "    elif 'hyatt-' in row['url']:\n",
    "        b['brand'][index] = 'Hyatt'\n",
    "    else:\n",
    "        b['brand'][index] = 'Destination or Unbound'"
   ]
  },
  {
   "cell_type": "code",
   "execution_count": 13,
   "metadata": {
    "scrolled": true
   },
   "outputs": [
    {
     "data": {
      "text/plain": [
       "Hyatt Place               323\n",
       "Houte House               100\n",
       "Hyatt Regency              97\n",
       "Destination or Unbound     97\n",
       "Hyatt Centric              22\n",
       "Hyatt                      20\n",
       "Joie De Vivre              16\n",
       "Grand Hyatt                13\n",
       "Andaz                       9\n",
       "Thompson                    7\n",
       "Park Hyatt                  6\n",
       "MiRaval                     3\n",
       "Name: brand, dtype: int64"
      ]
     },
     "execution_count": 13,
     "metadata": {},
     "output_type": "execute_result"
    }
   ],
   "source": [
    "b['brand'].value_counts()"
   ]
  },
  {
   "cell_type": "code",
   "execution_count": 14,
   "metadata": {},
   "outputs": [],
   "source": [
    "e['brand'] = ''"
   ]
  },
  {
   "cell_type": "code",
   "execution_count": 15,
   "metadata": {},
   "outputs": [],
   "source": [
    "# creating brand column for Radisson Dataframe\n",
    "\n",
    "for index, row in e.iterrows():\n",
    "    if 'Country Inn' in row['name']:\n",
    "        e['brand'][index] = 'Country Inn & Suites'\n",
    "    elif 'Park Inn' in row['name']:\n",
    "        e['brand'][index] = 'Park Inn'\n",
    "    elif 'Park Plaza' in row['name']:\n",
    "        e['brand'][index] = 'Park Plaza'\n",
    "    else:\n",
    "        e['brand'][index] = 'Radisson'"
   ]
  },
  {
   "cell_type": "code",
   "execution_count": 16,
   "metadata": {},
   "outputs": [
    {
     "data": {
      "text/plain": [
       "Country Inn & Suites    446\n",
       "Radisson                 81\n",
       "Park Inn                  6\n",
       "Name: brand, dtype: int64"
      ]
     },
     "execution_count": 16,
     "metadata": {},
     "output_type": "execute_result"
    }
   ],
   "source": [
    "e['brand'].value_counts()"
   ]
  },
  {
   "cell_type": "code",
   "execution_count": 17,
   "metadata": {},
   "outputs": [],
   "source": [
    "f['brand'] = ''"
   ]
  },
  {
   "cell_type": "code",
   "execution_count": 18,
   "metadata": {},
   "outputs": [],
   "source": [
    "# creating brand column for Wyndham dataframe\n",
    "\n",
    "for index, row in f.iterrows():\n",
    "    if 'Hawthorn' in row['name']:\n",
    "        f['brand'][index] = 'Hawthorn Suites'\n",
    "    elif 'Travelodge' in row['name']:\n",
    "        f['brand'][index] = 'Travelodge'\n",
    "    elif 'Howard Johnson' in row['name']:\n",
    "        f['brand'][index] = 'Howard Johnson'\n",
    "    elif 'Super 8' in row['name']:\n",
    "        f['brand'][index] = 'Super 8'\n",
    "    elif 'Days Inn' in row['name']:\n",
    "        f['brand'][index] = 'Days Inn'\n",
    "    elif 'Microtel' in row['name']:\n",
    "        f['brand'][index] = 'Microtel'\n",
    "    elif 'Ramada' in row['name']:\n",
    "        f['brand'][index] = 'Ramada'\n",
    "    elif 'AmericInn' in row['name']:\n",
    "        f['brand'][index] = 'AmericInn'\n",
    "    elif 'Wyndham Garden' in row['name']:\n",
    "        f['brand'][index] = 'Wyndham Garden'\n",
    "    elif 'Wingate' in row['name']:\n",
    "        f['brand'][index] = 'Wingate'\n",
    "    elif 'La Quinta' in row['name']:\n",
    "        f['brand'][index] = 'La Quinta'\n",
    "    elif 'Trademark' in row['name']:\n",
    "        f['brand'][index] = 'Trademark'\n",
    "    elif 'Dazzler' in row['name']:\n",
    "        f['brand'][index] = 'Dazzler'\n",
    "    elif 'Esplendor' in row['name']:\n",
    "        f['brand'][index] = 'Esplendor'\n",
    "    elif 'Tryp' in row['name']:\n",
    "        f['brand'][index] = 'TRYP'\n",
    "    elif 'TRYP' in row['name']:\n",
    "        f['brand'][index] = 'TRYP'\n",
    "    elif 'Dolce' in row['name']:\n",
    "        f['brand'][index] = 'Dolce'\n",
    "    elif 'Wyndham Grand' in row['name']:\n",
    "        f['brand'][index] = 'Wyndham Grand'\n",
    "    elif 'Club Wyndham' in row['name']:\n",
    "        f['brand'][index] = 'Club Wyndham'\n",
    "    elif 'Worldmark' in row['name']:\n",
    "        f['brand'][index] = 'Worldmark'\n",
    "    elif 'Margaritaville' in row['name']:\n",
    "        f['brand'][index] = 'Margaritaville'\n",
    "    elif 'Caesars' in row['name']:\n",
    "        f['brand'][index] = 'Caesars'\n",
    "    elif 'Harrahs' in row['name']:\n",
    "        f['brand'][index] = 'Harrahs'\n",
    "    elif 'Horseshoe' in row['name']:\n",
    "        f['brand'][index] = 'Horseshoe'\n",
    "    elif 'Cromwell' in row['name']:\n",
    "        f['brand'][index] = 'The Cromwell'\n",
    "    elif 'Bally' in row['name']:\n",
    "        f['brand'][index] = \"Bally's\"\n",
    "    elif 'Flamingo' in row['name']:\n",
    "        f['brand'][index] = 'Flamingo'\n",
    "    elif 'Linq' in row['name']:\n",
    "        f['brand'][index] = 'The LINQ'\n",
    "    elif 'NOBU' in row['name']:\n",
    "        f['brand'][index] = 'NOBU'\n",
    "    elif 'Paris' in row['name']:\n",
    "        f['brand'][index] = \"Paris\"\n",
    "    elif 'Planet Hollywood' in row['name']:\n",
    "        f['brand'][index] = 'Planet Hollywood'\n",
    "    elif 'Rio' in row['name']:\n",
    "        f['brand'][index] = 'Rio'\n",
    "    elif 'Baymont' in row['name']:\n",
    "        f['brand'][index] = 'Baymont'\n",
    "    elif 'Days' in row['name']:\n",
    "        f['brand'][index] = 'Days Inn'\n",
    "    elif 'wyndham-vacations' in row['url']:\n",
    "        f['brand'][index] = 'Wyndham Vacations'\n",
    "    else:\n",
    "        f['brand'][index] = 'Wyndham'"
   ]
  },
  {
   "cell_type": "code",
   "execution_count": 19,
   "metadata": {},
   "outputs": [
    {
     "data": {
      "text/plain": [
       "Super 8              1474\n",
       "Days Inn             1375\n",
       "La Quinta             888\n",
       "Baymont               501\n",
       "Travelodge            335\n",
       "Ramada                316\n",
       "Microtel              291\n",
       "AmericInn             199\n",
       "Wingate               163\n",
       "Howard Johnson        159\n",
       "Hawthorn Suites       101\n",
       "Wyndham Vacations      81\n",
       "Wyndham Garden         67\n",
       "Club Wyndham           67\n",
       "Wyndham                49\n",
       "Trademark              41\n",
       "Wyndham Grand          18\n",
       "TRYP                    9\n",
       "Caesars                 4\n",
       "Paris                   2\n",
       "Horseshoe               2\n",
       "Dolce                   2\n",
       "Planet Hollywood        1\n",
       "Flamingo                1\n",
       "Bally's                 1\n",
       "The Cromwell            1\n",
       "Name: brand, dtype: int64"
      ]
     },
     "execution_count": 19,
     "metadata": {},
     "output_type": "execute_result"
    }
   ],
   "source": [
    "f['brand'].value_counts()"
   ]
  },
  {
   "cell_type": "code",
   "execution_count": 20,
   "metadata": {},
   "outputs": [],
   "source": [
    "# creating a rewards column for each dataframe\n",
    "\n",
    "a['rewards'] = 'Hilton'\n",
    "b['rewards'] = 'Hyatt'\n",
    "c['rewards'] = 'IHG'\n",
    "d['rewards'] = 'Marriott'\n",
    "e['rewards'] = 'Radisson'\n",
    "f['rewards'] = 'Wyndham'"
   ]
  },
  {
   "cell_type": "code",
   "execution_count": 21,
   "metadata": {},
   "outputs": [],
   "source": [
    "# reorganizing columns\n",
    "\n",
    "a= a[['rewards', 'brand', 'name', 'rating', 'description', 'street', 'city', 'state', 'postal', 'url']]\n",
    "b= b[['rewards', 'brand', 'name', 'rating', 'description', 'street', 'city', 'state', 'postal', 'url']]\n",
    "c= c[['rewards', 'brand', 'name', 'rating', 'description', 'street', 'city', 'state', 'postal', 'url']]\n",
    "d= d[['rewards', 'brand', 'name', 'rating', 'description', 'street', 'city', 'state', 'postal', 'url']]\n",
    "e= e[['rewards', 'brand', 'name', 'rating', 'description', 'street', 'city', 'state', 'postal', 'url']]\n",
    "f= f[['rewards', 'brand', 'name', 'rating', 'description', 'street', 'city', 'state', 'postal', 'url']]"
   ]
  },
  {
   "cell_type": "code",
   "execution_count": 22,
   "metadata": {},
   "outputs": [],
   "source": [
    "# merge all dataframes into large dataframe\n",
    "\n",
    "merged_hotels = pd.concat([a, b, c, d, e, f], ignore_index=True)"
   ]
  },
  {
   "cell_type": "markdown",
   "metadata": {},
   "source": [
    "## Cleaning the State Column"
   ]
  },
  {
   "cell_type": "code",
   "execution_count": 23,
   "metadata": {},
   "outputs": [
    {
     "data": {
      "text/plain": [
       "TX                                              1132\n",
       "CA                                               748\n",
       "FL                                               680\n",
       "TEXAS                                            612\n",
       "CALIFORNIA                                       584\n",
       "                                                ... \n",
       "California9                                        1\n",
       "Pennsylvania17011                                  1\n",
       "New York 1483                                      1\n",
       "                                        La C       1\n",
       "<span class=\"property-Maine</span>                 1\n",
       "Name: state, Length: 217, dtype: int64"
      ]
     },
     "execution_count": 23,
     "metadata": {},
     "output_type": "execute_result"
    }
   ],
   "source": [
    "merged_hotels['state'].value_counts()"
   ]
  },
  {
   "cell_type": "code",
   "execution_count": 24,
   "metadata": {},
   "outputs": [],
   "source": [
    "# creating all upper versions of state in and creating a new column\n",
    "newstate = []\n",
    "for x in merged_hotels['state']:\n",
    "    try:\n",
    "        x = x.upper()\n",
    "        newstate.append(x)\n",
    "    except:\n",
    "        newstate.append(x)\n",
    "merged_hotels['state'] = newstate"
   ]
  },
  {
   "cell_type": "code",
   "execution_count": 25,
   "metadata": {},
   "outputs": [
    {
     "data": {
      "text/plain": [
       "TEXAS                                           1161\n",
       "TX                                              1132\n",
       "CALIFORNIA                                       875\n",
       "FLORIDA                                          795\n",
       "CA                                               748\n",
       "                                                ... \n",
       "<SPAN CLASS=\"PROPERTY-ARIZONA</SPAN>               1\n",
       "ILLINOIS61036                                      1\n",
       "<SPAN CLASS=\"PROPERTY-WISCONSIN</SPAN>             1\n",
       "                                        CHAR       1\n",
       "<SPAN CLASS=\"PROPERTY-NORTH CAROLINA</SPAN>        1\n",
       "Name: state, Length: 166, dtype: int64"
      ]
     },
     "execution_count": 25,
     "metadata": {},
     "output_type": "execute_result"
    }
   ],
   "source": [
    "merged_hotels['state'].value_counts()"
   ]
  },
  {
   "cell_type": "code",
   "execution_count": 26,
   "metadata": {},
   "outputs": [],
   "source": [
    "statereplace = {'ALABAMA' : 'AL',\n",
    "'ALASKA' : 'AK',\n",
    "'ARIZONA' : 'AZ',\n",
    "'ARKANSAS' : 'AR',\n",
    "'CALIFORNIA' : 'CA',\n",
    "'COLORADO' : 'CO',\n",
    "'CONNECTICUT' : 'CT',\n",
    "'DELAWARE' : 'DE',\n",
    "'DISTRICT OF COLUMBIA' : 'DC',\n",
    "'FLORIDA' : 'FL',\n",
    "'GEORGIA' : 'GA',\n",
    "'HAWAII' : 'HI',\n",
    "'IDAHO' : 'ID',\n",
    "'ILLINOIS' : 'IL',\n",
    "'INDIANA' : 'IN',\n",
    "'IOWA' : 'IA',\n",
    "'KANSAS' : 'KS',\n",
    "'KENTUCKY' : 'KY',\n",
    "'LOUISIANA' : 'LA',\n",
    "'MAINE' : 'ME',\n",
    "'MARYLAND' : 'MD',\n",
    "'MASSACHUSETTS' : 'MA',\n",
    "'MICHIGAN' : 'MI', \n",
    "'MINNESOTA' : 'MN',\n",
    "'MISSISSIPPI' : 'MS',\n",
    "'MISSOURI' : 'MO',\n",
    "'MONTANA' : 'MT',\n",
    "'NEBRASKA' : 'NE',\n",
    "'NEVADA' : 'NV',\n",
    "'NEW HAMPSHIRE' : 'NH',\n",
    "'NEW JERSEY' : 'NJ',\n",
    "'NEW MEXICO' : 'NM', \n",
    "'NEW YORK' : 'NY',\n",
    "'NORTH CAROLINA' : 'NC',\n",
    "'NORTH DAKOTA' : 'ND',\n",
    "'OHIO' : 'OH',\n",
    "'OKLAHOMA' : 'OK',\n",
    "'OREGON' : 'OR',\n",
    "'PENNSYLVANIA' : 'PA',\n",
    "'RHODE ISLAND' : 'RI',\n",
    "'SOUTH CAROLINA' : 'SC',\n",
    "'SOUTH DAKOTA' : 'SD',\n",
    "'TENNESSEE' : 'TN',\n",
    "'TEXAS' : 'TX',\n",
    "'UTAH' : 'UT',\n",
    "'VERMONT' : 'VT',\n",
    "'VIRGINIA' : 'VA',\n",
    "'WASHINGTON' : 'WA',\n",
    "'WEST VIRGINIA' : 'WV',\n",
    "'WISCONSIN' : 'WI',\n",
    "'WYOMING' : 'WY'}"
   ]
  },
  {
   "cell_type": "code",
   "execution_count": 27,
   "metadata": {},
   "outputs": [],
   "source": [
    "merged_hotels['state'] = merged_hotels['state'].replace(statereplace)"
   ]
  },
  {
   "cell_type": "code",
   "execution_count": 28,
   "metadata": {},
   "outputs": [],
   "source": [
    "merged_hotels['state'] = merged_hotels['state'].str.strip()"
   ]
  },
  {
   "cell_type": "code",
   "execution_count": 29,
   "metadata": {},
   "outputs": [
    {
     "data": {
      "text/plain": [
       "TX                                             2297\n",
       "CA                                             1649\n",
       "FL                                             1495\n",
       "GA                                              912\n",
       "NC                                              782\n",
       "                                               ... \n",
       "<SPAN CLASS=\"PROPERTY-NORTH CAROLINA</SPAN>       1\n",
       "NEW YORK 1483                                     1\n",
       "ILLINOIS61704                                     1\n",
       "CALIFORNIA                                        1\n",
       "CHAR                                              1\n",
       "Name: state, Length: 91, dtype: int64"
      ]
     },
     "execution_count": 29,
     "metadata": {},
     "output_type": "execute_result"
    }
   ],
   "source": [
    "merged_hotels['state'].value_counts()"
   ]
  },
  {
   "cell_type": "code",
   "execution_count": 30,
   "metadata": {},
   "outputs": [],
   "source": [
    "statereplace2 = {'GEORGIA31904' : 'GA', 'NEW YORK 1483' : 'NY', '<SPAN CLASS=\"PROPERTY-MISSOURI</SPAN>' : 'MO', \n",
    "                '<SPAN CLASS=\"PROPERTY-ARIZONA</SPAN>' : 'AZ', 'CALIFORNIA9' : 'CA', 'ILLINOIS61704' : 'IL', \n",
    "                '<SPAN CLASS=\"PROPERTY-MAINE</SPAN>' : 'ME', '<SPAN CLASS=\"PROPERTY-NORTH CAROLINA</SPAN>' : 'NC',\n",
    "                '<SPAN CLASS=\"PROPERTY-KANSAS</SPAN>' : 'KS', '<SPAN CLASS=\"PROPERTY-ALABAMA</SPAN>' : 'AL', \n",
    "                '<SPAN CLASS=\"PROPERTY-WISCONSIN</SPAN>' : 'WI', '<SPAN CLASS=\"PROPERTY-TENNESSEE</SPAN>' : 'TN',\n",
    "                '<SPAN CLASS=\"PROPERTY-MINNESOTA</SPAN>' : 'MN', '<SPAN CLASS=\"PROPERTY-CALIFORNIA</SPAN>' : 'CA',\n",
    "                '<SPAN CLASS=\"PROPERTY-TEXAS</SPAN>' : 'TX'}"
   ]
  },
  {
   "cell_type": "code",
   "execution_count": 31,
   "metadata": {},
   "outputs": [],
   "source": [
    "merged_hotels['state'] = merged_hotels['state'].replace(statereplace2)\n"
   ]
  },
  {
   "cell_type": "code",
   "execution_count": 32,
   "metadata": {},
   "outputs": [
    {
     "data": {
      "text/plain": [
       "TX                   2300\n",
       "CA                   1653\n",
       "FL                   1495\n",
       "GA                    913\n",
       "NC                    783\n",
       "                     ... \n",
       "PENNSYLVANIA            1\n",
       "PENNSYLVANIA17011       1\n",
       "NEW YORK14830           1\n",
       "LA C                    1\n",
       "CHAR                    1\n",
       "Name: state, Length: 76, dtype: int64"
      ]
     },
     "execution_count": 32,
     "metadata": {},
     "output_type": "execute_result"
    }
   ],
   "source": [
    "merged_hotels['state'].value_counts()"
   ]
  },
  {
   "cell_type": "code",
   "execution_count": 33,
   "metadata": {
    "scrolled": true
   },
   "outputs": [
    {
     "data": {
      "text/plain": [
       "rewards          0\n",
       "brand          137\n",
       "name             0\n",
       "rating          92\n",
       "description     27\n",
       "street          74\n",
       "city            74\n",
       "state           78\n",
       "postal          74\n",
       "url              0\n",
       "dtype: int64"
      ]
     },
     "execution_count": 33,
     "metadata": {},
     "output_type": "execute_result"
    }
   ],
   "source": [
    "merged_hotels.isnull().sum()"
   ]
  },
  {
   "cell_type": "code",
   "execution_count": 34,
   "metadata": {},
   "outputs": [
    {
     "data": {
      "text/plain": [
       "(21367, 10)"
      ]
     },
     "execution_count": 34,
     "metadata": {},
     "output_type": "execute_result"
    }
   ],
   "source": [
    "# dropping hotels that could not conform to address requirements\n",
    "\n",
    "merged_hotels2 = merged_hotels[~merged_hotels['state'].isnull()]\n",
    "merged_hotels2.shape"
   ]
  },
  {
   "cell_type": "markdown",
   "metadata": {},
   "source": [
    "## Cleaning the Brand Column"
   ]
  },
  {
   "cell_type": "code",
   "execution_count": 35,
   "metadata": {},
   "outputs": [
    {
     "data": {
      "text/html": [
       "<div>\n",
       "<style scoped>\n",
       "    .dataframe tbody tr th:only-of-type {\n",
       "        vertical-align: middle;\n",
       "    }\n",
       "\n",
       "    .dataframe tbody tr th {\n",
       "        vertical-align: top;\n",
       "    }\n",
       "\n",
       "    .dataframe thead th {\n",
       "        text-align: right;\n",
       "    }\n",
       "</style>\n",
       "<table border=\"1\" class=\"dataframe\">\n",
       "  <thead>\n",
       "    <tr style=\"text-align: right;\">\n",
       "      <th></th>\n",
       "      <th>rewards</th>\n",
       "      <th>brand</th>\n",
       "      <th>name</th>\n",
       "      <th>rating</th>\n",
       "      <th>description</th>\n",
       "      <th>street</th>\n",
       "      <th>city</th>\n",
       "      <th>state</th>\n",
       "      <th>postal</th>\n",
       "      <th>url</th>\n",
       "    </tr>\n",
       "  </thead>\n",
       "  <tbody>\n",
       "    <tr>\n",
       "      <th>9636</th>\n",
       "      <td>Marriott</td>\n",
       "      <td>NaN</td>\n",
       "      <td>Aloft Birmingham Soho Square</td>\n",
       "      <td>4.2</td>\n",
       "      <td>[ Surrounded by the chic boutiques and renowne...</td>\n",
       "      <td>1903 29th Avenue South</td>\n",
       "      <td>Homewood</td>\n",
       "      <td>AL</td>\n",
       "      <td>35209</td>\n",
       "      <td>https://www.marriott.com/BHMAL</td>\n",
       "    </tr>\n",
       "    <tr>\n",
       "      <th>9637</th>\n",
       "      <td>Marriott</td>\n",
       "      <td>NaN</td>\n",
       "      <td>Aloft Glendale at Westgate</td>\n",
       "      <td>4.4</td>\n",
       "      <td>[ Change it up at Aloft® Hotels Glendale at We...</td>\n",
       "      <td>6920 North 93rd Avenue</td>\n",
       "      <td>Glendale</td>\n",
       "      <td>AZ</td>\n",
       "      <td>85305</td>\n",
       "      <td>https://www.marriott.com/PHXAW</td>\n",
       "    </tr>\n",
       "    <tr>\n",
       "      <th>9638</th>\n",
       "      <td>Marriott</td>\n",
       "      <td>NaN</td>\n",
       "      <td>Aloft Phoenix-Airport</td>\n",
       "      <td>4.1</td>\n",
       "      <td>[ Enjoy yourself at Aloft Phoenix-Airport. Our...</td>\n",
       "      <td>4450 East Washington</td>\n",
       "      <td>Phoenix</td>\n",
       "      <td>AZ</td>\n",
       "      <td>85034</td>\n",
       "      <td>https://www.marriott.com/PHXXL</td>\n",
       "    </tr>\n",
       "    <tr>\n",
       "      <th>9639</th>\n",
       "      <td>Marriott</td>\n",
       "      <td>NaN</td>\n",
       "      <td>Aloft Scottsdale</td>\n",
       "      <td>4.0</td>\n",
       "      <td>[ Experience an exceptional stay in a desirabl...</td>\n",
       "      <td>4415 North Civic Center Plaza</td>\n",
       "      <td>Scottsdale</td>\n",
       "      <td>AZ</td>\n",
       "      <td>85251</td>\n",
       "      <td>https://www.marriott.com/PHXSD</td>\n",
       "    </tr>\n",
       "    <tr>\n",
       "      <th>9640</th>\n",
       "      <td>Marriott</td>\n",
       "      <td>NaN</td>\n",
       "      <td>Aloft Tempe</td>\n",
       "      <td>3.8</td>\n",
       "      <td>[ Just a mile from Arizona State University (A...</td>\n",
       "      <td>951 East Playa Del Norte Drive</td>\n",
       "      <td>Tempe</td>\n",
       "      <td>AZ</td>\n",
       "      <td>85281</td>\n",
       "      <td>https://www.marriott.com/PHXAL</td>\n",
       "    </tr>\n",
       "    <tr>\n",
       "      <th>...</th>\n",
       "      <td>...</td>\n",
       "      <td>...</td>\n",
       "      <td>...</td>\n",
       "      <td>...</td>\n",
       "      <td>...</td>\n",
       "      <td>...</td>\n",
       "      <td>...</td>\n",
       "      <td>...</td>\n",
       "      <td>...</td>\n",
       "      <td>...</td>\n",
       "    </tr>\n",
       "    <tr>\n",
       "      <th>14250</th>\n",
       "      <td>Marriott</td>\n",
       "      <td>NaN</td>\n",
       "      <td>New: Aloft DFW Airport North</td>\n",
       "      <td>New Hotel</td>\n",
       "      <td>[ Celebrate your style at Aloft DFW Airport No...</td>\n",
       "      <td>Intersection of Regent Boulevard and Statesman...</td>\n",
       "      <td>Irving</td>\n",
       "      <td>TX</td>\n",
       "      <td>75063</td>\n",
       "      <td>https://www.marriott.com/DFWAN</td>\n",
       "    </tr>\n",
       "    <tr>\n",
       "      <th>14251</th>\n",
       "      <td>Marriott</td>\n",
       "      <td>NaN</td>\n",
       "      <td>New: Aloft Lubbock</td>\n",
       "      <td>New Hotel</td>\n",
       "      <td>[ ]</td>\n",
       "      <td>2909 Iola Ave</td>\n",
       "      <td>Lubbock</td>\n",
       "      <td>TX</td>\n",
       "      <td>79407</td>\n",
       "      <td>https://www.marriott.com/LBBAL</td>\n",
       "    </tr>\n",
       "    <tr>\n",
       "      <th>14252</th>\n",
       "      <td>Marriott</td>\n",
       "      <td>NaN</td>\n",
       "      <td>New: Aloft Houston Shenandoah</td>\n",
       "      <td>New Hotel</td>\n",
       "      <td>[ Ideally located The Woodlands, TX hotel area...</td>\n",
       "      <td>19391 David Memorial Drive</td>\n",
       "      <td>Shenandoah</td>\n",
       "      <td>TX</td>\n",
       "      <td>77385</td>\n",
       "      <td>https://www.marriott.com/HOUAO</td>\n",
       "    </tr>\n",
       "    <tr>\n",
       "      <th>14253</th>\n",
       "      <td>Marriott</td>\n",
       "      <td>NaN</td>\n",
       "      <td>New: Aloft Waco Baylor</td>\n",
       "      <td>New Hotel</td>\n",
       "      <td>[ Connect with colleagues, friends and family ...</td>\n",
       "      <td>900 South 11th Street</td>\n",
       "      <td>Waco</td>\n",
       "      <td>TX</td>\n",
       "      <td>76706</td>\n",
       "      <td>https://www.marriott.com/WCOAL</td>\n",
       "    </tr>\n",
       "    <tr>\n",
       "      <th>14667</th>\n",
       "      <td>Marriott</td>\n",
       "      <td>NaN</td>\n",
       "      <td>Aloft Charlotte Airport</td>\n",
       "      <td>4.5</td>\n",
       "      <td>[ Aloft Charlotte Airport invites you to explo...</td>\n",
       "      <td>3928 Memorial Parkway</td>\n",
       "      <td>Charlotte</td>\n",
       "      <td>NC</td>\n",
       "      <td>28217</td>\n",
       "      <td>https://www.marriott.com/CLTAP</td>\n",
       "    </tr>\n",
       "  </tbody>\n",
       "</table>\n",
       "<p>137 rows × 10 columns</p>\n",
       "</div>"
      ],
      "text/plain": [
       "        rewards brand                           name       rating  \\\n",
       "9636   Marriott   NaN   Aloft Birmingham Soho Square          4.2   \n",
       "9637   Marriott   NaN     Aloft Glendale at Westgate          4.4   \n",
       "9638   Marriott   NaN          Aloft Phoenix-Airport          4.1   \n",
       "9639   Marriott   NaN               Aloft Scottsdale          4.0   \n",
       "9640   Marriott   NaN                    Aloft Tempe          3.8   \n",
       "...         ...   ...                            ...          ...   \n",
       "14250  Marriott   NaN   New: Aloft DFW Airport North   New Hotel    \n",
       "14251  Marriott   NaN             New: Aloft Lubbock   New Hotel    \n",
       "14252  Marriott   NaN  New: Aloft Houston Shenandoah   New Hotel    \n",
       "14253  Marriott   NaN         New: Aloft Waco Baylor   New Hotel    \n",
       "14667  Marriott   NaN        Aloft Charlotte Airport          4.5   \n",
       "\n",
       "                                             description  \\\n",
       "9636   [ Surrounded by the chic boutiques and renowne...   \n",
       "9637   [ Change it up at Aloft® Hotels Glendale at We...   \n",
       "9638   [ Enjoy yourself at Aloft Phoenix-Airport. Our...   \n",
       "9639   [ Experience an exceptional stay in a desirabl...   \n",
       "9640   [ Just a mile from Arizona State University (A...   \n",
       "...                                                  ...   \n",
       "14250  [ Celebrate your style at Aloft DFW Airport No...   \n",
       "14251                                                [ ]   \n",
       "14252  [ Ideally located The Woodlands, TX hotel area...   \n",
       "14253  [ Connect with colleagues, friends and family ...   \n",
       "14667  [ Aloft Charlotte Airport invites you to explo...   \n",
       "\n",
       "                                                  street        city state  \\\n",
       "9636                              1903 29th Avenue South    Homewood    AL   \n",
       "9637                              6920 North 93rd Avenue    Glendale    AZ   \n",
       "9638                                4450 East Washington     Phoenix    AZ   \n",
       "9639                       4415 North Civic Center Plaza  Scottsdale    AZ   \n",
       "9640                      951 East Playa Del Norte Drive       Tempe    AZ   \n",
       "...                                                  ...         ...   ...   \n",
       "14250  Intersection of Regent Boulevard and Statesman...      Irving    TX   \n",
       "14251                                      2909 Iola Ave     Lubbock    TX   \n",
       "14252                         19391 David Memorial Drive  Shenandoah    TX   \n",
       "14253                              900 South 11th Street        Waco    TX   \n",
       "14667                              3928 Memorial Parkway   Charlotte    NC   \n",
       "\n",
       "      postal                             url  \n",
       "9636   35209  https://www.marriott.com/BHMAL  \n",
       "9637   85305  https://www.marriott.com/PHXAW  \n",
       "9638   85034  https://www.marriott.com/PHXXL  \n",
       "9639   85251  https://www.marriott.com/PHXSD  \n",
       "9640   85281  https://www.marriott.com/PHXAL  \n",
       "...      ...                             ...  \n",
       "14250  75063  https://www.marriott.com/DFWAN  \n",
       "14251  79407  https://www.marriott.com/LBBAL  \n",
       "14252  77385  https://www.marriott.com/HOUAO  \n",
       "14253  76706  https://www.marriott.com/WCOAL  \n",
       "14667  28217  https://www.marriott.com/CLTAP  \n",
       "\n",
       "[137 rows x 10 columns]"
      ]
     },
     "execution_count": 35,
     "metadata": {},
     "output_type": "execute_result"
    }
   ],
   "source": [
    "merged_hotels2[merged_hotels2['brand'].isnull()]"
   ]
  },
  {
   "cell_type": "code",
   "execution_count": 36,
   "metadata": {
    "scrolled": true
   },
   "outputs": [
    {
     "name": "stderr",
     "output_type": "stream",
     "text": [
      "/Users/chrisjohnson/anaconda3/lib/python3.7/site-packages/IPython/core/interactiveshell.py:3331: SettingWithCopyWarning: \n",
      "A value is trying to be set on a copy of a slice from a DataFrame\n",
      "\n",
      "See the caveats in the documentation: https://pandas.pydata.org/pandas-docs/stable/user_guide/indexing.html#returning-a-view-versus-a-copy\n",
      "  exec(code_obj, self.user_global_ns, self.user_ns)\n"
     ]
    }
   ],
   "source": [
    "for index, row in merged_hotels2.iterrows():\n",
    "    if 'Aloft' in row['name']:\n",
    "        merged_hotels2['brand'][index] = 'Aloft'"
   ]
  },
  {
   "cell_type": "code",
   "execution_count": null,
   "metadata": {},
   "outputs": [],
   "source": []
  },
  {
   "cell_type": "markdown",
   "metadata": {},
   "source": [
    "## Cleaning the Rating Column"
   ]
  },
  {
   "cell_type": "code",
   "execution_count": 37,
   "metadata": {},
   "outputs": [
    {
     "name": "stderr",
     "output_type": "stream",
     "text": [
      "/Users/chrisjohnson/anaconda3/lib/python3.7/site-packages/ipykernel_launcher.py:1: SettingWithCopyWarning: \n",
      "A value is trying to be set on a copy of a slice from a DataFrame.\n",
      "Try using .loc[row_indexer,col_indexer] = value instead\n",
      "\n",
      "See the caveats in the documentation: https://pandas.pydata.org/pandas-docs/stable/user_guide/indexing.html#returning-a-view-versus-a-copy\n",
      "  \"\"\"Entry point for launching an IPython kernel.\n"
     ]
    }
   ],
   "source": [
    "merged_hotels2['rating'] = merged_hotels2['rating'].str.strip()"
   ]
  },
  {
   "cell_type": "code",
   "execution_count": 38,
   "metadata": {},
   "outputs": [],
   "source": [
    "merged_hotels2 = merged_hotels2[~merged_hotels2['rating'].isnull()]"
   ]
  },
  {
   "cell_type": "code",
   "execution_count": 39,
   "metadata": {},
   "outputs": [],
   "source": [
    "ratingreplace = {'0' : 'New Hotel', '4.5 Stars':'4.5', 'https://www.tripadvisor.com/img/cdsi/img2/ratings/traveler/4.0-MCID-5.svg' : '4',\n",
    "                '4.0 Stars' : '4', 'https://www.tripadvisor.com/img/cdsi/img2/ratings/traveler/4.5-MCID-5.svg' : '4.5',\n",
    "                'https://www.tripadvisor.com/img/cdsi/img2/ratings/traveler/3.5-MCID-5.svg' : '3.5', '5.0 Stars' : '5',\n",
    "                'https://www.tripadvisor.com/img/cdsi/img2/ratings/traveler/3.0-MCID-5.svg' : '3', '3.5 Stars' : '3.5',\n",
    "                'https://www.tripadvisor.com/img/cdsi/img2/ratings/traveler/5.0-MCID-5.svg' : '5', \n",
    "                'https://www.tripadvisor.com/img/cdsi/img2/ratings/traveler/2.5-MCID-5.svg' : '2.5', '2.0 Stars' : '2',\n",
    "                 '3.0 Stars' : '3', 'https://www.tripadvisor.com/img/cdsi/img2/ratings/traveler/2.0-MCID-5.svg' : '2',\n",
    "                 'https://www.tripadvisor.com/img/cdsi/img2/ratings/traveler/0.0-MCID-5.svg' : '0', 'nager' : 'New Hotel'\n",
    "                }\n",
    "merged_hotels2['rating'] = merged_hotels2['rating'].replace(ratingreplace)\n"
   ]
  },
  {
   "cell_type": "code",
   "execution_count": 40,
   "metadata": {},
   "outputs": [
    {
     "data": {
      "text/plain": [
       "4.5          5517\n",
       "4            2162\n",
       "3.5          2010\n",
       "4.0          1649\n",
       "4.6          1598\n",
       "3.0          1345\n",
       "4.4          1305\n",
       "4.7          1235\n",
       "New Hotel     773\n",
       "4.3           767\n",
       "2.5           659\n",
       "4.8           615\n",
       "4.2           493\n",
       "4.1           302\n",
       "5             188\n",
       "2.0           166\n",
       "3.9           119\n",
       "4.9           116\n",
       "3.8            56\n",
       "3              51\n",
       "5.0            44\n",
       "3.7            34\n",
       "3.6            19\n",
       "1.5            13\n",
       "2              11\n",
       "0.0             5\n",
       "3.4             5\n",
       "3.3             4\n",
       "1.0             3\n",
       "4,5             2\n",
       "1               2\n",
       "4,7             1\n",
       "4,6             1\n",
       "1.8             1\n",
       "2.8             1\n",
       "3.1             1\n",
       "0               1\n",
       "2.9             1\n",
       "Name: rating, dtype: int64"
      ]
     },
     "execution_count": 40,
     "metadata": {},
     "output_type": "execute_result"
    }
   ],
   "source": [
    "merged_hotels2['rating'].value_counts()"
   ]
  },
  {
   "cell_type": "code",
   "execution_count": 41,
   "metadata": {},
   "outputs": [],
   "source": [
    "newrating = []\n",
    "for x in merged_hotels2['rating']:\n",
    "    try:\n",
    "        x = float(x)\n",
    "        if x == 5.0:\n",
    "            z = 5.0\n",
    "            newrating.append(z)\n",
    "        elif 4.5 <= x < 5.0:\n",
    "            z = 4.5\n",
    "            newrating.append(z)\n",
    "        elif 4.0 <= x < 4.5:\n",
    "            z = 4.0\n",
    "            newrating.append(z)\n",
    "        elif 3.5 <= x < 4.0:\n",
    "            z = 3.5\n",
    "            newrating.append(z)\n",
    "        elif 3.0 <= x < 3.5:\n",
    "            z = 3.0\n",
    "            newrating.append(z)\n",
    "        elif 2.5 <= x < 3.0:\n",
    "            z = 2.5\n",
    "            newrating.append(z)\n",
    "        elif 2.0 <= x < 2.5:\n",
    "            z = 2.0\n",
    "            newrating.append(z)\n",
    "        elif 1.5 <= x < 2.0:\n",
    "            z = 1.5\n",
    "            newrating.append(z)\n",
    "        elif 1.0 <= x < 1.5:\n",
    "            z = 1.0\n",
    "            newrating.append(z)\n",
    "        elif .5 <= x < 1.0:\n",
    "            z = .5\n",
    "            newrating.append(z)\n",
    "        elif 0.0 <= x < .5:\n",
    "            z = 0.0\n",
    "            newrating.append(z)\n",
    "    except:\n",
    "        newrating.append(x)"
   ]
  },
  {
   "cell_type": "code",
   "execution_count": 42,
   "metadata": {},
   "outputs": [],
   "source": [
    "merged_hotels2['rating'] = newrating"
   ]
  },
  {
   "cell_type": "code",
   "execution_count": 43,
   "metadata": {},
   "outputs": [],
   "source": [
    "replaceratings = {'4,6' : 4.5, '4,5' : 4.5, '4,7' : 4.5}"
   ]
  },
  {
   "cell_type": "code",
   "execution_count": 44,
   "metadata": {},
   "outputs": [],
   "source": [
    "merged_hotels2['rating'] = merged_hotels2['rating'].replace(replaceratings)"
   ]
  },
  {
   "cell_type": "code",
   "execution_count": 45,
   "metadata": {},
   "outputs": [
    {
     "data": {
      "text/plain": [
       "4.5          9085\n",
       "4.0          6678\n",
       "3.5          2238\n",
       "3.0          1406\n",
       "New Hotel     773\n",
       "2.5           661\n",
       "5.0           232\n",
       "2.0           177\n",
       "1.5            14\n",
       "0.0             6\n",
       "1.0             5\n",
       "Name: rating, dtype: int64"
      ]
     },
     "execution_count": 45,
     "metadata": {},
     "output_type": "execute_result"
    }
   ],
   "source": [
    "merged_hotels2['rating'].value_counts()"
   ]
  },
  {
   "cell_type": "code",
   "execution_count": 46,
   "metadata": {},
   "outputs": [
    {
     "name": "stdout",
     "output_type": "stream",
     "text": [
      "Wyndham     6073\n",
      "Marriott    5191\n",
      "Hilton      4890\n",
      "IHG         3875\n",
      "Hyatt        713\n",
      "Radisson     533\n",
      "Name: rewards, dtype: int64\n",
      "21275\n"
     ]
    }
   ],
   "source": [
    "print(merged_hotels2['rewards'].value_counts())\n",
    "print(merged_hotels2['rewards'].value_counts().sum())"
   ]
  },
  {
   "cell_type": "code",
   "execution_count": 47,
   "metadata": {},
   "outputs": [
    {
     "name": "stdout",
     "output_type": "stream",
     "text": [
      "Holiday Inn Express    2257\n",
      "Hampton Inn            2165\n",
      "Super 8                1474\n",
      "Days Inn               1375\n",
      "Fairfield              1050\n",
      "                       ... \n",
      "MiRaval                   3\n",
      "Waldorf Astoria           1\n",
      "Paris                     1\n",
      "Tapestry                  1\n",
      "Wyndham                   1\n",
      "Name: brand, Length: 77, dtype: int64\n",
      "21275\n"
     ]
    }
   ],
   "source": [
    "print(merged_hotels2['brand'].value_counts())\n",
    "print(merged_hotels2['brand'].value_counts().sum())"
   ]
  },
  {
   "cell_type": "markdown",
   "metadata": {},
   "source": [
    "## Fixing the Intercontinental Hotel Missing information"
   ]
  },
  {
   "cell_type": "code",
   "execution_count": 48,
   "metadata": {},
   "outputs": [],
   "source": [
    "intercontinental = merged_hotels2[merged_hotels2['brand'].str.contains('Inter')]"
   ]
  },
  {
   "cell_type": "code",
   "execution_count": 49,
   "metadata": {},
   "outputs": [],
   "source": [
    "intercontinental = intercontinental.rename(columns={'city' : 'state', 'state': 'city'})\n",
    "intercontinental = intercontinental[['rewards', 'brand', 'name', 'rating', 'description', 'street', 'city', 'state', 'postal', 'url']]"
   ]
  },
  {
   "cell_type": "code",
   "execution_count": 50,
   "metadata": {},
   "outputs": [],
   "source": [
    "intercontinental['state'] = intercontinental['state'].str.upper()"
   ]
  },
  {
   "cell_type": "code",
   "execution_count": 51,
   "metadata": {},
   "outputs": [],
   "source": [
    "intercontinental['city'] = intercontinental['city'].str.title()"
   ]
  },
  {
   "cell_type": "code",
   "execution_count": 52,
   "metadata": {},
   "outputs": [
    {
     "data": {
      "text/html": [
       "<div>\n",
       "<style scoped>\n",
       "    .dataframe tbody tr th:only-of-type {\n",
       "        vertical-align: middle;\n",
       "    }\n",
       "\n",
       "    .dataframe tbody tr th {\n",
       "        vertical-align: top;\n",
       "    }\n",
       "\n",
       "    .dataframe thead th {\n",
       "        text-align: right;\n",
       "    }\n",
       "</style>\n",
       "<table border=\"1\" class=\"dataframe\">\n",
       "  <thead>\n",
       "    <tr style=\"text-align: right;\">\n",
       "      <th></th>\n",
       "      <th>rewards</th>\n",
       "      <th>brand</th>\n",
       "      <th>name</th>\n",
       "      <th>rating</th>\n",
       "      <th>description</th>\n",
       "      <th>street</th>\n",
       "      <th>city</th>\n",
       "      <th>state</th>\n",
       "      <th>postal</th>\n",
       "      <th>url</th>\n",
       "    </tr>\n",
       "  </thead>\n",
       "  <tbody>\n",
       "    <tr>\n",
       "      <th>9548</th>\n",
       "      <td>IHG</td>\n",
       "      <td>InterContinental</td>\n",
       "      <td>InterContinental Hotels Los Angeles Downtown</td>\n",
       "      <td>4</td>\n",
       "      <td>\\nRevel in glamour and exhilaration that defin...</td>\n",
       "      <td>900 Wilshire Boulevard</td>\n",
       "      <td>Los Angeles</td>\n",
       "      <td>CALIFORNIA</td>\n",
       "      <td>90017</td>\n",
       "      <td>https://www.ihg.com/intercontinental/hotels/us...</td>\n",
       "    </tr>\n",
       "    <tr>\n",
       "      <th>9549</th>\n",
       "      <td>IHG</td>\n",
       "      <td>InterContinental</td>\n",
       "      <td>InterContinental Hotels San Francisco</td>\n",
       "      <td>4</td>\n",
       "      <td>\\nImmerse yourself in the  heart of the city a...</td>\n",
       "      <td>888 Howard Street</td>\n",
       "      <td>San Francisco</td>\n",
       "      <td>CALIFORNIA</td>\n",
       "      <td>94103</td>\n",
       "      <td>https://www.ihg.com/intercontinental/hotels/us...</td>\n",
       "    </tr>\n",
       "    <tr>\n",
       "      <th>9550</th>\n",
       "      <td>IHG</td>\n",
       "      <td>InterContinental</td>\n",
       "      <td>InterContinental Hotels Mark Hopkins San Franc...</td>\n",
       "      <td>4</td>\n",
       "      <td>\\nDiscover San Francisco's historic charm at t...</td>\n",
       "      <td>999 California Street</td>\n",
       "      <td>San Francisco</td>\n",
       "      <td>CALIFORNIA</td>\n",
       "      <td>94108</td>\n",
       "      <td>https://www.ihg.com/intercontinental/hotels/us...</td>\n",
       "    </tr>\n",
       "    <tr>\n",
       "      <th>9551</th>\n",
       "      <td>IHG</td>\n",
       "      <td>InterContinental</td>\n",
       "      <td>InterContinental Hotels Los Angeles Century City</td>\n",
       "      <td>4.5</td>\n",
       "      <td>\\nEnjoy unrivaled hospitality at the InterCont...</td>\n",
       "      <td>2151 Avenue Of The Stars</td>\n",
       "      <td>Los Angeles</td>\n",
       "      <td>CALIFORNIA</td>\n",
       "      <td>90067</td>\n",
       "      <td>https://www.ihg.com/intercontinental/hotels/us...</td>\n",
       "    </tr>\n",
       "    <tr>\n",
       "      <th>9552</th>\n",
       "      <td>IHG</td>\n",
       "      <td>InterContinental</td>\n",
       "      <td>InterContinental Hotels San Diego</td>\n",
       "      <td>4.5</td>\n",
       "      <td>\\nExuding the liveliness of the city with a so...</td>\n",
       "      <td>901 Bayfront Court</td>\n",
       "      <td>San Diego</td>\n",
       "      <td>CALIFORNIA</td>\n",
       "      <td>92101</td>\n",
       "      <td>https://www.ihg.com/intercontinental/hotels/us...</td>\n",
       "    </tr>\n",
       "  </tbody>\n",
       "</table>\n",
       "</div>"
      ],
      "text/plain": [
       "     rewards             brand  \\\n",
       "9548     IHG  InterContinental   \n",
       "9549     IHG  InterContinental   \n",
       "9550     IHG  InterContinental   \n",
       "9551     IHG  InterContinental   \n",
       "9552     IHG  InterContinental   \n",
       "\n",
       "                                                   name rating  \\\n",
       "9548       InterContinental Hotels Los Angeles Downtown      4   \n",
       "9549              InterContinental Hotels San Francisco      4   \n",
       "9550  InterContinental Hotels Mark Hopkins San Franc...      4   \n",
       "9551   InterContinental Hotels Los Angeles Century City    4.5   \n",
       "9552                  InterContinental Hotels San Diego    4.5   \n",
       "\n",
       "                                            description  \\\n",
       "9548  \\nRevel in glamour and exhilaration that defin...   \n",
       "9549  \\nImmerse yourself in the  heart of the city a...   \n",
       "9550  \\nDiscover San Francisco's historic charm at t...   \n",
       "9551  \\nEnjoy unrivaled hospitality at the InterCont...   \n",
       "9552  \\nExuding the liveliness of the city with a so...   \n",
       "\n",
       "                        street           city       state postal  \\\n",
       "9548    900 Wilshire Boulevard    Los Angeles  CALIFORNIA  90017   \n",
       "9549         888 Howard Street  San Francisco  CALIFORNIA  94103   \n",
       "9550     999 California Street  San Francisco  CALIFORNIA  94108   \n",
       "9551  2151 Avenue Of The Stars    Los Angeles  CALIFORNIA  90067   \n",
       "9552        901 Bayfront Court      San Diego  CALIFORNIA  92101   \n",
       "\n",
       "                                                    url  \n",
       "9548  https://www.ihg.com/intercontinental/hotels/us...  \n",
       "9549  https://www.ihg.com/intercontinental/hotels/us...  \n",
       "9550  https://www.ihg.com/intercontinental/hotels/us...  \n",
       "9551  https://www.ihg.com/intercontinental/hotels/us...  \n",
       "9552  https://www.ihg.com/intercontinental/hotels/us...  "
      ]
     },
     "execution_count": 52,
     "metadata": {},
     "output_type": "execute_result"
    }
   ],
   "source": [
    "intercontinental.head()"
   ]
  },
  {
   "cell_type": "code",
   "execution_count": 53,
   "metadata": {},
   "outputs": [],
   "source": [
    "merged_hotels3 = merged_hotels2[~merged_hotels2['brand'].str.contains('Inter')]"
   ]
  },
  {
   "cell_type": "code",
   "execution_count": 54,
   "metadata": {},
   "outputs": [],
   "source": [
    "merged_hotels3 = pd.concat([merged_hotels3, intercontinental], ignore_index=True)"
   ]
  },
  {
   "cell_type": "code",
   "execution_count": 55,
   "metadata": {},
   "outputs": [
    {
     "data": {
      "text/plain": [
       "(21275, 10)"
      ]
     },
     "execution_count": 55,
     "metadata": {},
     "output_type": "execute_result"
    }
   ],
   "source": [
    "merged_hotels3.shape"
   ]
  },
  {
   "cell_type": "markdown",
   "metadata": {},
   "source": [
    "## One last clean on state column to address hotels where city and state were backwards"
   ]
  },
  {
   "cell_type": "code",
   "execution_count": 56,
   "metadata": {
    "scrolled": true
   },
   "outputs": [
    {
     "name": "stdout",
     "output_type": "stream",
     "text": [
      "TX               2298\n",
      "CA               1639\n",
      "FL               1485\n",
      "GA                911\n",
      "NC                780\n",
      "                 ... \n",
      "NEW YORK14830       1\n",
      "GEORGIA             1\n",
      "LA C                1\n",
      "LOUISIANA           1\n",
      "CHAR                1\n",
      "Name: state, Length: 71, dtype: int64\n",
      "21275\n"
     ]
    }
   ],
   "source": [
    "print(merged_hotels3['state'].value_counts())\n",
    "print(merged_hotels3['state'].value_counts().sum())"
   ]
  },
  {
   "cell_type": "code",
   "execution_count": 57,
   "metadata": {},
   "outputs": [
    {
     "data": {
      "text/html": [
       "<div>\n",
       "<style scoped>\n",
       "    .dataframe tbody tr th:only-of-type {\n",
       "        vertical-align: middle;\n",
       "    }\n",
       "\n",
       "    .dataframe tbody tr th {\n",
       "        vertical-align: top;\n",
       "    }\n",
       "\n",
       "    .dataframe thead th {\n",
       "        text-align: right;\n",
       "    }\n",
       "</style>\n",
       "<table border=\"1\" class=\"dataframe\">\n",
       "  <thead>\n",
       "    <tr style=\"text-align: right;\">\n",
       "      <th></th>\n",
       "      <th>rewards</th>\n",
       "      <th>brand</th>\n",
       "      <th>name</th>\n",
       "      <th>rating</th>\n",
       "      <th>description</th>\n",
       "      <th>street</th>\n",
       "      <th>city</th>\n",
       "      <th>state</th>\n",
       "      <th>postal</th>\n",
       "      <th>url</th>\n",
       "    </tr>\n",
       "  </thead>\n",
       "  <tbody>\n",
       "    <tr>\n",
       "      <th>14959</th>\n",
       "      <td>Radisson</td>\n",
       "      <td>Radisson</td>\n",
       "      <td>Radisson Hotel Charlotte Airport</td>\n",
       "      <td>4.5</td>\n",
       "      <td>Unpack your bags after a 10-minute shuttle ri...</td>\n",
       "      <td>212 W Woodlawn Road</td>\n",
       "      <td>#C</td>\n",
       "      <td>CHAR</td>\n",
       "      <td>lotte</td>\n",
       "      <td>https://www.radissonhotels.com/en-us/hotels/ra...</td>\n",
       "    </tr>\n",
       "  </tbody>\n",
       "</table>\n",
       "</div>"
      ],
      "text/plain": [
       "        rewards     brand                              name rating  \\\n",
       "14959  Radisson  Radisson  Radisson Hotel Charlotte Airport    4.5   \n",
       "\n",
       "                                             description               street  \\\n",
       "14959   Unpack your bags after a 10-minute shuttle ri...  212 W Woodlawn Road   \n",
       "\n",
       "      city state postal                                                url  \n",
       "14959   #C  CHAR  lotte  https://www.radissonhotels.com/en-us/hotels/ra...  "
      ]
     },
     "execution_count": 57,
     "metadata": {},
     "output_type": "execute_result"
    }
   ],
   "source": [
    "merged_hotels3[merged_hotels3['state'].str.contains('CHAR')]"
   ]
  },
  {
   "cell_type": "code",
   "execution_count": 58,
   "metadata": {},
   "outputs": [],
   "source": [
    "statereplace3 = {'LA C' : 'WI', '200 Harborview Plaza' : 'La Crosse', 'rosse' : '54601', 'CHAR' : 'NC', 'lotte' : '28217', '#C' : 'Charlotte', 'ILLINOIS61036' : 'IL', 'PENNSYLVANIA17011' : 'PA', 'NEW YORK14830' : 'NY'}"
   ]
  },
  {
   "cell_type": "code",
   "execution_count": 59,
   "metadata": {},
   "outputs": [],
   "source": [
    "merged_hotels3['state'] = merged_hotels3['state'].replace(statereplace)"
   ]
  },
  {
   "cell_type": "code",
   "execution_count": 60,
   "metadata": {},
   "outputs": [],
   "source": [
    "merged_hotels3 = merged_hotels3.replace(statereplace3)"
   ]
  },
  {
   "cell_type": "code",
   "execution_count": 61,
   "metadata": {},
   "outputs": [],
   "source": [
    "merged_hotels3['city'] = merged_hotels3['city'].str.strip()"
   ]
  },
  {
   "cell_type": "markdown",
   "metadata": {},
   "source": [
    "## To Map the Smith Travel Rating to Each Hotel Brand"
   ]
  },
  {
   "cell_type": "code",
   "execution_count": 62,
   "metadata": {},
   "outputs": [],
   "source": [
    "classnumber = {'AC Hotel':3,\n",
    " 'Aloft':3,\n",
    " 'AmericInn':5,\n",
    " 'Andaz':1,\n",
    " 'Baymont':5,\n",
    " 'Candlewood':5,\n",
    " 'Canopy':2,\n",
    " 'Club Wyndham':2,\n",
    " 'Conrad':1,\n",
    " 'Country Inn & Suites':4,\n",
    " 'Courtyard':3,\n",
    " 'Crowne Plaza':3,\n",
    " 'Curio':2,\n",
    " 'Days Inn':6,\n",
    " 'Delta Hotels':3,\n",
    " 'Destination or Unbound':1,\n",
    " 'Doubletree':3,\n",
    " 'EVEN':3,\n",
    " 'Embassy Suites':2,\n",
    " 'Fairfield':4,\n",
    " 'FourPoints':3,\n",
    " 'Grand Hyatt':1,\n",
    " 'Hampton Inn':4,\n",
    " 'Hawthorn Suites':5,\n",
    " 'Hilton':2,\n",
    " 'Hilton Garden Inn':3,\n",
    " 'Hilton Grand Vacations':2,\n",
    " 'Holiday Inn':4,\n",
    " 'Holiday Inn Express':4,\n",
    " 'Home2':4,\n",
    " 'Homewood Suites':3,\n",
    " 'Houte House':3,\n",
    " 'Howard Johnson':6,\n",
    " 'Hyatt':2,\n",
    " 'Hyatt Centric':2,\n",
    " 'Hyatt Place':3,\n",
    " 'Hyatt Regency':2,\n",
    " 'Indigo':2,\n",
    " 'InterContinental':1,\n",
    " 'JW Marriott':1,\n",
    " 'Joie De Vivre':2,\n",
    " 'Kimpton':2,\n",
    " 'La Quinta':4,\n",
    " 'Le Meredian':2,\n",
    " 'Luxury Collection':1,\n",
    " 'Marriott':2,\n",
    " 'MiRaval':1,\n",
    " 'Microtel':6,\n",
    " 'Moxy':4,\n",
    " 'Paris':2,\n",
    " 'Park Hyatt':1,\n",
    " 'Park Inn':4,\n",
    " 'Radisson':3,\n",
    " 'Ramada':5,\n",
    " 'Renaissance':2,\n",
    " 'Residence Inn':3,\n",
    " 'Sheraton':2,\n",
    " 'Springhill':3,\n",
    " 'St. Regis':1,\n",
    " 'Staybridge':3,\n",
    " 'Super 8':6,\n",
    " 'TRYP':4,\n",
    " 'Tapestry':3,\n",
    " 'Thompson':1,\n",
    " 'TownPlace':4,\n",
    " 'Trademark':4,\n",
    " 'Travelodge':6,\n",
    " 'Tribute':2,\n",
    " 'Tru':5,\n",
    " 'W Hotel':1,\n",
    " 'Waldorf Astoria':1,\n",
    " 'Westin':2,\n",
    " 'Wingate':5,\n",
    " 'Wyndham':3,\n",
    " 'Wyndham Garden':4,\n",
    " 'Wyndham Grand':2,\n",
    " 'Wyndham Vacations':3}"
   ]
  },
  {
   "cell_type": "code",
   "execution_count": 63,
   "metadata": {},
   "outputs": [],
   "source": [
    "merged_hotels3['class_id'] = merged_hotels3['brand']"
   ]
  },
  {
   "cell_type": "code",
   "execution_count": 64,
   "metadata": {},
   "outputs": [],
   "source": [
    "merged_hotels3['class_id'] = merged_hotels3['class_id'].replace(classnumber)"
   ]
  },
  {
   "cell_type": "code",
   "execution_count": 65,
   "metadata": {},
   "outputs": [
    {
     "data": {
      "text/html": [
       "<div>\n",
       "<style scoped>\n",
       "    .dataframe tbody tr th:only-of-type {\n",
       "        vertical-align: middle;\n",
       "    }\n",
       "\n",
       "    .dataframe tbody tr th {\n",
       "        vertical-align: top;\n",
       "    }\n",
       "\n",
       "    .dataframe thead th {\n",
       "        text-align: right;\n",
       "    }\n",
       "</style>\n",
       "<table border=\"1\" class=\"dataframe\">\n",
       "  <thead>\n",
       "    <tr style=\"text-align: right;\">\n",
       "      <th></th>\n",
       "      <th>rewards</th>\n",
       "      <th>brand</th>\n",
       "      <th>name</th>\n",
       "      <th>rating</th>\n",
       "      <th>description</th>\n",
       "      <th>street</th>\n",
       "      <th>city</th>\n",
       "      <th>state</th>\n",
       "      <th>postal</th>\n",
       "      <th>url</th>\n",
       "      <th>class_id</th>\n",
       "    </tr>\n",
       "  </thead>\n",
       "  <tbody>\n",
       "    <tr>\n",
       "      <th>0</th>\n",
       "      <td>Hilton</td>\n",
       "      <td>Hampton Inn</td>\n",
       "      <td>Hampton Inn Alexander City</td>\n",
       "      <td>4</td>\n",
       "      <td>We’re right off Highway 280, 25 minutes away f...</td>\n",
       "      <td>1551 Elkahatchee Road</td>\n",
       "      <td>Alexander City</td>\n",
       "      <td>AL</td>\n",
       "      <td>35010</td>\n",
       "      <td>https://hamptoninn3.hilton.com/en/hotels/alaba...</td>\n",
       "      <td>4</td>\n",
       "    </tr>\n",
       "    <tr>\n",
       "      <th>1</th>\n",
       "      <td>Hilton</td>\n",
       "      <td>Hampton Inn</td>\n",
       "      <td>Hampton Inn Wetumpka</td>\n",
       "      <td>5</td>\n",
       "      <td>We’re on the banks of the Coosa River, a short...</td>\n",
       "      <td>350 South Main Street</td>\n",
       "      <td>Wetumpka</td>\n",
       "      <td>AL</td>\n",
       "      <td>36092</td>\n",
       "      <td>https://hamptoninn3.hilton.com/en/hotels/alaba...</td>\n",
       "      <td>4</td>\n",
       "    </tr>\n",
       "    <tr>\n",
       "      <th>2</th>\n",
       "      <td>Hilton</td>\n",
       "      <td>Hampton Inn</td>\n",
       "      <td>Hampton Inn Auburn</td>\n",
       "      <td>4</td>\n",
       "      <td>We're off I-85, under 10 minutes from Chewacla...</td>\n",
       "      <td>2430 S. College St.</td>\n",
       "      <td>Auburn</td>\n",
       "      <td>AL</td>\n",
       "      <td>36832</td>\n",
       "      <td>https://hamptoninn3.hilton.com/en/hotels/alaba...</td>\n",
       "      <td>4</td>\n",
       "    </tr>\n",
       "    <tr>\n",
       "      <th>3</th>\n",
       "      <td>Hilton</td>\n",
       "      <td>Tru</td>\n",
       "      <td>Tru by Hilton Auburn</td>\n",
       "      <td>4</td>\n",
       "      <td>Make this Tru by Hilton your own. We’ll help, ...</td>\n",
       "      <td>2411 W Pace Blvd</td>\n",
       "      <td>Auburn</td>\n",
       "      <td>AL</td>\n",
       "      <td>36830</td>\n",
       "      <td>https://tru3.hilton.com/en/hotels/alabama/tru-...</td>\n",
       "      <td>5</td>\n",
       "    </tr>\n",
       "    <tr>\n",
       "      <th>4</th>\n",
       "      <td>Hilton</td>\n",
       "      <td>Hilton Garden Inn</td>\n",
       "      <td>Hilton Garden Inn Auburn/Opelika</td>\n",
       "      <td>4</td>\n",
       "      <td>Our hotel is just off I-85, minutes away from ...</td>\n",
       "      <td>2555 Hilton Garden Drive</td>\n",
       "      <td>Auburn</td>\n",
       "      <td>AL</td>\n",
       "      <td>36830</td>\n",
       "      <td>https://hiltongardeninn3.hilton.com/en/hotels/...</td>\n",
       "      <td>3</td>\n",
       "    </tr>\n",
       "  </tbody>\n",
       "</table>\n",
       "</div>"
      ],
      "text/plain": [
       "  rewards              brand                              name rating  \\\n",
       "0  Hilton        Hampton Inn        Hampton Inn Alexander City      4   \n",
       "1  Hilton        Hampton Inn              Hampton Inn Wetumpka      5   \n",
       "2  Hilton        Hampton Inn                Hampton Inn Auburn      4   \n",
       "3  Hilton                Tru              Tru by Hilton Auburn      4   \n",
       "4  Hilton  Hilton Garden Inn  Hilton Garden Inn Auburn/Opelika      4   \n",
       "\n",
       "                                         description  \\\n",
       "0  We’re right off Highway 280, 25 minutes away f...   \n",
       "1  We’re on the banks of the Coosa River, a short...   \n",
       "2  We're off I-85, under 10 minutes from Chewacla...   \n",
       "3  Make this Tru by Hilton your own. We’ll help, ...   \n",
       "4  Our hotel is just off I-85, minutes away from ...   \n",
       "\n",
       "                     street            city state postal  \\\n",
       "0     1551 Elkahatchee Road  Alexander City    AL  35010   \n",
       "1     350 South Main Street        Wetumpka    AL  36092   \n",
       "2       2430 S. College St.          Auburn    AL  36832   \n",
       "3          2411 W Pace Blvd          Auburn    AL  36830   \n",
       "4  2555 Hilton Garden Drive          Auburn    AL  36830   \n",
       "\n",
       "                                                 url  class_id  \n",
       "0  https://hamptoninn3.hilton.com/en/hotels/alaba...         4  \n",
       "1  https://hamptoninn3.hilton.com/en/hotels/alaba...         4  \n",
       "2  https://hamptoninn3.hilton.com/en/hotels/alaba...         4  \n",
       "3  https://tru3.hilton.com/en/hotels/alabama/tru-...         5  \n",
       "4  https://hiltongardeninn3.hilton.com/en/hotels/...         3  "
      ]
     },
     "execution_count": 65,
     "metadata": {},
     "output_type": "execute_result"
    }
   ],
   "source": [
    "merged_hotels3.head()"
   ]
  },
  {
   "cell_type": "markdown",
   "metadata": {},
   "source": [
    "## Map category/type to each brand"
   ]
  },
  {
   "cell_type": "code",
   "execution_count": 66,
   "metadata": {},
   "outputs": [],
   "source": [
    "classcategory = {'AC Hotel':'Lifestyle, Boutique',\n",
    " 'Aloft':'Lifestyle, Boutique',\n",
    " 'AmericInn':'Budget',\n",
    " 'Andaz':'Lifestyle, Boutique',\n",
    " 'Baymont':'Budget',\n",
    " 'Candlewood':'Extended-Stay, All-Suite',\n",
    " 'Canopy':'Lifestyle, Boutique',\n",
    " 'Club Wyndham':'Vacation Club, Condos, Villas',\n",
    " 'Conrad':'Luxury',\n",
    " 'Country Inn & Suites':'Limited-Service Mid-Scale',\n",
    " 'Courtyard':'Full-Service Entry',\n",
    " 'Crowne Plaza':'Full-Service Mid-Scale',\n",
    " 'Curio':'Lifestyle, Boutique',\n",
    " 'Days Inn':'Budget',\n",
    " 'Delta Hotels':'Full-Service Entry',\n",
    " 'Destination or Unbound':'Lifestyle, Boutique',\n",
    " 'Doubletree':'Full-Service Mid-Scale',\n",
    " 'EVEN':'Lifestyle, Boutique',\n",
    " 'Embassy Suites':'Extended-Stay, All-Suite',\n",
    " 'Fairfield':'Limited-Service Mid-Scale',\n",
    " 'FourPoints':'Full-Service Entry',\n",
    " 'Grand Hyatt':'Luxury',\n",
    " 'Hampton Inn':'Limited-Service Mid-Scale',\n",
    " 'Hawthorn Suites':'Extended-Stay, All-Suite',\n",
    " 'Hilton':'Full-Service Upper-Scale',\n",
    " 'Hilton Garden Inn':'Full-Service Entry',\n",
    " 'Hilton Grand Vacations':'Vacation Club, Condos, Villas',\n",
    " 'Holiday Inn':'Full-Service Mid-Scale',\n",
    " 'Holiday Inn Express':'Limited-Service Mid-Scale',\n",
    " 'Home2':'Extended-Stay, All-Suite',\n",
    " 'Homewood Suites':'Extended-Stay, All-Suite',\n",
    " 'Houte House':'Extended-Stay, All-Suite',\n",
    " 'Howard Johnson':'Budget',\n",
    " 'Hyatt':'Lifestyle, Boutique',\n",
    " 'Hyatt Centric':'Lifestyle, Boutique',\n",
    " 'Hyatt Place':'Limited-Service Mid-Scale',\n",
    " 'Hyatt Regency':'Full-Service Upper-Scale',\n",
    " 'Indigo':'Lifestyle, Boutique',\n",
    " 'InterContinental':'Luxury',\n",
    " 'JW Marriott':'Luxury',\n",
    " 'Joie De Vivre':'Lifestyle, Boutique',\n",
    " 'Kimpton':'Lifestyle, Boutique',\n",
    " 'La Quinta':'Limited-Service Mid-Scale',\n",
    " 'Le Meredian':'Lifestyle, Boutique',\n",
    " 'Luxury Collection':'Luxury',\n",
    " 'Marriott':'Full-Service Upper-Scale',\n",
    " 'MiRaval':'Luxury',\n",
    " 'Microtel':'Budget',\n",
    " 'Moxy':'Lifestyle, Boutique',\n",
    " 'Paris':'Full-Service Upper-Scale',\n",
    " 'Park Hyatt':'Luxury',\n",
    " 'Park Inn':'Limited-Service Mid-Scale',\n",
    " 'Radisson':'Full-Service Entry',\n",
    " 'Ramada':'Budget',\n",
    " 'Renaissance':'Full-Service Upper-Scale',\n",
    " 'Residence Inn':'Extended-Stay, All-Suite',\n",
    " 'Sheraton':'Full-Service Upper-Scale',\n",
    " 'Springhill':'Extended-Stay, All-Suite',\n",
    " 'St. Regis':'Luxury',\n",
    " 'Staybridge':'Extended-Stay, All-Suite',\n",
    " 'Super 8':'Budget',\n",
    " 'TRYP':'Lifestyle, Boutique',\n",
    " 'Tapestry':'Lifestyle, Boutique',\n",
    " 'Thompson':'Lifestyle, Boutique',\n",
    " 'TownPlace':'Extended-Stay, All-Suite',\n",
    " 'Trademark':'Lifestyle, Boutique',\n",
    " 'Travelodge':'Budget',\n",
    " 'Tribute':'Lifestyle, Boutique',\n",
    " 'Tru':'Budget',\n",
    " 'W Hotel':'Luxury',\n",
    " 'Waldorf Astoria':'Luxury',\n",
    " 'Westin':'Full-Service Upper-Scale',\n",
    " 'Wingate':'Budget',\n",
    " 'Wyndham':'Full-Service Entry',\n",
    " 'Wyndham Garden':'Limited-Service Mid-Scale',\n",
    " 'Wyndham Grand':'Full-Service Mid-Scale',\n",
    " 'Wyndham Vacations':'Vacation Club, Condos, Villas'}"
   ]
  },
  {
   "cell_type": "code",
   "execution_count": 67,
   "metadata": {},
   "outputs": [],
   "source": [
    "merged_hotels3['category'] = merged_hotels3['brand']"
   ]
  },
  {
   "cell_type": "code",
   "execution_count": 68,
   "metadata": {},
   "outputs": [],
   "source": [
    "merged_hotels3['category'] = merged_hotels3['category'].replace(classcategory)"
   ]
  },
  {
   "cell_type": "code",
   "execution_count": 69,
   "metadata": {},
   "outputs": [
    {
     "data": {
      "text/plain": [
       "Limited-Service Mid-Scale        7202\n",
       "Budget                           5002\n",
       "Extended-Stay, All-Suite         3860\n",
       "Full-Service Entry               1970\n",
       "Full-Service Upper-Scale         1098\n",
       "Full-Service Mid-Scale           1090\n",
       "Lifestyle, Boutique               742\n",
       "Vacation Club, Condos, Villas     169\n",
       "Luxury                            142\n",
       "Name: category, dtype: int64"
      ]
     },
     "execution_count": 69,
     "metadata": {},
     "output_type": "execute_result"
    }
   ],
   "source": [
    "merged_hotels3['category'].value_counts()"
   ]
  },
  {
   "cell_type": "code",
   "execution_count": 70,
   "metadata": {},
   "outputs": [
    {
     "data": {
      "text/plain": [
       "4    8470\n",
       "3    5279\n",
       "6    3634\n",
       "5    1888\n",
       "2    1749\n",
       "1     255\n",
       "Name: class_id, dtype: int64"
      ]
     },
     "execution_count": 70,
     "metadata": {},
     "output_type": "execute_result"
    }
   ],
   "source": [
    "merged_hotels3['class_id'].value_counts()"
   ]
  },
  {
   "cell_type": "code",
   "execution_count": 71,
   "metadata": {},
   "outputs": [],
   "source": [
    "merged_hotels3 = merged_hotels3[~merged_hotels3['description'].isnull()]"
   ]
  },
  {
   "cell_type": "code",
   "execution_count": 72,
   "metadata": {},
   "outputs": [
    {
     "data": {
      "text/plain": [
       "rewards        object\n",
       "brand          object\n",
       "name           object\n",
       "rating         object\n",
       "description    object\n",
       "street         object\n",
       "city           object\n",
       "state          object\n",
       "postal         object\n",
       "url            object\n",
       "class_id        int64\n",
       "category       object\n",
       "dtype: object"
      ]
     },
     "execution_count": 72,
     "metadata": {},
     "output_type": "execute_result"
    }
   ],
   "source": [
    "merged_hotels3.dtypes"
   ]
  },
  {
   "cell_type": "code",
   "execution_count": 73,
   "metadata": {},
   "outputs": [],
   "source": [
    "# merged_hotels3.to_csv('./Data/all_hotels_cleaned.csv')"
   ]
  },
  {
   "cell_type": "code",
   "execution_count": 74,
   "metadata": {},
   "outputs": [
    {
     "data": {
      "text/html": [
       "<div>\n",
       "<style scoped>\n",
       "    .dataframe tbody tr th:only-of-type {\n",
       "        vertical-align: middle;\n",
       "    }\n",
       "\n",
       "    .dataframe tbody tr th {\n",
       "        vertical-align: top;\n",
       "    }\n",
       "\n",
       "    .dataframe thead th {\n",
       "        text-align: right;\n",
       "    }\n",
       "</style>\n",
       "<table border=\"1\" class=\"dataframe\">\n",
       "  <thead>\n",
       "    <tr style=\"text-align: right;\">\n",
       "      <th></th>\n",
       "      <th>rewards</th>\n",
       "      <th>brand</th>\n",
       "      <th>name</th>\n",
       "      <th>rating</th>\n",
       "      <th>description</th>\n",
       "      <th>street</th>\n",
       "      <th>city</th>\n",
       "      <th>state</th>\n",
       "      <th>postal</th>\n",
       "      <th>url</th>\n",
       "      <th>class_id</th>\n",
       "      <th>category</th>\n",
       "    </tr>\n",
       "  </thead>\n",
       "  <tbody>\n",
       "    <tr>\n",
       "      <th>0</th>\n",
       "      <td>Hilton</td>\n",
       "      <td>Hampton Inn</td>\n",
       "      <td>Hampton Inn Alexander City</td>\n",
       "      <td>4</td>\n",
       "      <td>We’re right off Highway 280, 25 minutes away f...</td>\n",
       "      <td>1551 Elkahatchee Road</td>\n",
       "      <td>Alexander City</td>\n",
       "      <td>AL</td>\n",
       "      <td>35010</td>\n",
       "      <td>https://hamptoninn3.hilton.com/en/hotels/alaba...</td>\n",
       "      <td>4</td>\n",
       "      <td>Limited-Service Mid-Scale</td>\n",
       "    </tr>\n",
       "    <tr>\n",
       "      <th>1</th>\n",
       "      <td>Hilton</td>\n",
       "      <td>Hampton Inn</td>\n",
       "      <td>Hampton Inn Wetumpka</td>\n",
       "      <td>5</td>\n",
       "      <td>We’re on the banks of the Coosa River, a short...</td>\n",
       "      <td>350 South Main Street</td>\n",
       "      <td>Wetumpka</td>\n",
       "      <td>AL</td>\n",
       "      <td>36092</td>\n",
       "      <td>https://hamptoninn3.hilton.com/en/hotels/alaba...</td>\n",
       "      <td>4</td>\n",
       "      <td>Limited-Service Mid-Scale</td>\n",
       "    </tr>\n",
       "    <tr>\n",
       "      <th>2</th>\n",
       "      <td>Hilton</td>\n",
       "      <td>Hampton Inn</td>\n",
       "      <td>Hampton Inn Auburn</td>\n",
       "      <td>4</td>\n",
       "      <td>We're off I-85, under 10 minutes from Chewacla...</td>\n",
       "      <td>2430 S. College St.</td>\n",
       "      <td>Auburn</td>\n",
       "      <td>AL</td>\n",
       "      <td>36832</td>\n",
       "      <td>https://hamptoninn3.hilton.com/en/hotels/alaba...</td>\n",
       "      <td>4</td>\n",
       "      <td>Limited-Service Mid-Scale</td>\n",
       "    </tr>\n",
       "  </tbody>\n",
       "</table>\n",
       "</div>"
      ],
      "text/plain": [
       "  rewards        brand                        name rating  \\\n",
       "0  Hilton  Hampton Inn  Hampton Inn Alexander City      4   \n",
       "1  Hilton  Hampton Inn        Hampton Inn Wetumpka      5   \n",
       "2  Hilton  Hampton Inn          Hampton Inn Auburn      4   \n",
       "\n",
       "                                         description                 street  \\\n",
       "0  We’re right off Highway 280, 25 minutes away f...  1551 Elkahatchee Road   \n",
       "1  We’re on the banks of the Coosa River, a short...  350 South Main Street   \n",
       "2  We're off I-85, under 10 minutes from Chewacla...    2430 S. College St.   \n",
       "\n",
       "             city state postal  \\\n",
       "0  Alexander City    AL  35010   \n",
       "1        Wetumpka    AL  36092   \n",
       "2          Auburn    AL  36832   \n",
       "\n",
       "                                                 url  class_id  \\\n",
       "0  https://hamptoninn3.hilton.com/en/hotels/alaba...         4   \n",
       "1  https://hamptoninn3.hilton.com/en/hotels/alaba...         4   \n",
       "2  https://hamptoninn3.hilton.com/en/hotels/alaba...         4   \n",
       "\n",
       "                    category  \n",
       "0  Limited-Service Mid-Scale  \n",
       "1  Limited-Service Mid-Scale  \n",
       "2  Limited-Service Mid-Scale  "
      ]
     },
     "execution_count": 74,
     "metadata": {},
     "output_type": "execute_result"
    }
   ],
   "source": [
    "merged_hotels3.head(3)"
   ]
  }
 ],
 "metadata": {
  "kernelspec": {
   "display_name": "Python 3",
   "language": "python",
   "name": "python3"
  },
  "language_info": {
   "codemirror_mode": {
    "name": "ipython",
    "version": 3
   },
   "file_extension": ".py",
   "mimetype": "text/x-python",
   "name": "python",
   "nbconvert_exporter": "python",
   "pygments_lexer": "ipython3",
   "version": "3.7.6"
  }
 },
 "nbformat": 4,
 "nbformat_minor": 4
}
